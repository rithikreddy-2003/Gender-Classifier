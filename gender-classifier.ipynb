{
 "cells": [
  {
   "cell_type": "code",
   "execution_count": 1,
   "id": "a231162c",
   "metadata": {
    "_cell_guid": "b1076dfc-b9ad-4769-8c92-a6c4dae69d19",
    "_uuid": "8f2839f25d086af736a60e9eeb907d3b93b6e0e5",
    "execution": {
     "iopub.execute_input": "2023-06-23T04:44:31.533505Z",
     "iopub.status.busy": "2023-06-23T04:44:31.533046Z",
     "iopub.status.idle": "2023-06-23T04:44:31.550876Z",
     "shell.execute_reply": "2023-06-23T04:44:31.549529Z"
    },
    "papermill": {
     "duration": 0.035345,
     "end_time": "2023-06-23T04:44:31.552851",
     "exception": false,
     "start_time": "2023-06-23T04:44:31.517506",
     "status": "completed"
    },
    "tags": []
   },
   "outputs": [
    {
     "name": "stdout",
     "output_type": "stream",
     "text": [
      "/kaggle/input/gender-classification-dataset/gender_classification_v7.csv\n"
     ]
    }
   ],
   "source": [
    "# This Python 3 environment comes with many helpful analytics libraries installed\n",
    "# It is defined by the kaggle/python Docker image: https://github.com/kaggle/docker-python\n",
    "# For example, here's several helpful packages to load\n",
    "\n",
    "import numpy as np # linear algebra\n",
    "import pandas as pd # data processing, CSV file I/O (e.g. pd.read_csv)\n",
    "\n",
    "# Input data files are available in the read-only \"../input/\" directory\n",
    "# For example, running this (by clicking run or pressing Shift+Enter) will list all files under the input directory\n",
    "\n",
    "import os\n",
    "for dirname, _, filenames in os.walk('/kaggle/input'):\n",
    "    for filename in filenames:\n",
    "        print(os.path.join(dirname, filename))\n",
    "\n",
    "# You can write up to 20GB to the current directory (/kaggle/working/) that gets preserved as output when you create a version using \"Save & Run All\" \n",
    "# You can also write temporary files to /kaggle/temp/, but they won't be saved outside of the current session"
   ]
  },
  {
   "cell_type": "code",
   "execution_count": 2,
   "id": "f7f2efb1",
   "metadata": {
    "execution": {
     "iopub.execute_input": "2023-06-23T04:44:31.584366Z",
     "iopub.status.busy": "2023-06-23T04:44:31.582381Z",
     "iopub.status.idle": "2023-06-23T04:44:31.643656Z",
     "shell.execute_reply": "2023-06-23T04:44:31.642339Z"
    },
    "papermill": {
     "duration": 0.079441,
     "end_time": "2023-06-23T04:44:31.645801",
     "exception": false,
     "start_time": "2023-06-23T04:44:31.566360",
     "status": "completed"
    },
    "tags": []
   },
   "outputs": [
    {
     "data": {
      "text/html": [
       "<div>\n",
       "<style scoped>\n",
       "    .dataframe tbody tr th:only-of-type {\n",
       "        vertical-align: middle;\n",
       "    }\n",
       "\n",
       "    .dataframe tbody tr th {\n",
       "        vertical-align: top;\n",
       "    }\n",
       "\n",
       "    .dataframe thead th {\n",
       "        text-align: right;\n",
       "    }\n",
       "</style>\n",
       "<table border=\"1\" class=\"dataframe\">\n",
       "  <thead>\n",
       "    <tr style=\"text-align: right;\">\n",
       "      <th></th>\n",
       "      <th>long_hair</th>\n",
       "      <th>forehead_width_cm</th>\n",
       "      <th>forehead_height_cm</th>\n",
       "      <th>nose_wide</th>\n",
       "      <th>nose_long</th>\n",
       "      <th>lips_thin</th>\n",
       "      <th>distance_nose_to_lip_long</th>\n",
       "      <th>gender</th>\n",
       "    </tr>\n",
       "  </thead>\n",
       "  <tbody>\n",
       "    <tr>\n",
       "      <th>0</th>\n",
       "      <td>1</td>\n",
       "      <td>11.8</td>\n",
       "      <td>6.1</td>\n",
       "      <td>1</td>\n",
       "      <td>0</td>\n",
       "      <td>1</td>\n",
       "      <td>1</td>\n",
       "      <td>Male</td>\n",
       "    </tr>\n",
       "    <tr>\n",
       "      <th>1</th>\n",
       "      <td>0</td>\n",
       "      <td>14.0</td>\n",
       "      <td>5.4</td>\n",
       "      <td>0</td>\n",
       "      <td>0</td>\n",
       "      <td>1</td>\n",
       "      <td>0</td>\n",
       "      <td>Female</td>\n",
       "    </tr>\n",
       "    <tr>\n",
       "      <th>2</th>\n",
       "      <td>0</td>\n",
       "      <td>11.8</td>\n",
       "      <td>6.3</td>\n",
       "      <td>1</td>\n",
       "      <td>1</td>\n",
       "      <td>1</td>\n",
       "      <td>1</td>\n",
       "      <td>Male</td>\n",
       "    </tr>\n",
       "    <tr>\n",
       "      <th>3</th>\n",
       "      <td>0</td>\n",
       "      <td>14.4</td>\n",
       "      <td>6.1</td>\n",
       "      <td>0</td>\n",
       "      <td>1</td>\n",
       "      <td>1</td>\n",
       "      <td>1</td>\n",
       "      <td>Male</td>\n",
       "    </tr>\n",
       "    <tr>\n",
       "      <th>4</th>\n",
       "      <td>1</td>\n",
       "      <td>13.5</td>\n",
       "      <td>5.9</td>\n",
       "      <td>0</td>\n",
       "      <td>0</td>\n",
       "      <td>0</td>\n",
       "      <td>0</td>\n",
       "      <td>Female</td>\n",
       "    </tr>\n",
       "    <tr>\n",
       "      <th>...</th>\n",
       "      <td>...</td>\n",
       "      <td>...</td>\n",
       "      <td>...</td>\n",
       "      <td>...</td>\n",
       "      <td>...</td>\n",
       "      <td>...</td>\n",
       "      <td>...</td>\n",
       "      <td>...</td>\n",
       "    </tr>\n",
       "    <tr>\n",
       "      <th>4996</th>\n",
       "      <td>1</td>\n",
       "      <td>13.6</td>\n",
       "      <td>5.1</td>\n",
       "      <td>0</td>\n",
       "      <td>0</td>\n",
       "      <td>0</td>\n",
       "      <td>0</td>\n",
       "      <td>Female</td>\n",
       "    </tr>\n",
       "    <tr>\n",
       "      <th>4997</th>\n",
       "      <td>1</td>\n",
       "      <td>11.9</td>\n",
       "      <td>5.4</td>\n",
       "      <td>0</td>\n",
       "      <td>0</td>\n",
       "      <td>0</td>\n",
       "      <td>0</td>\n",
       "      <td>Female</td>\n",
       "    </tr>\n",
       "    <tr>\n",
       "      <th>4998</th>\n",
       "      <td>1</td>\n",
       "      <td>12.9</td>\n",
       "      <td>5.7</td>\n",
       "      <td>0</td>\n",
       "      <td>0</td>\n",
       "      <td>0</td>\n",
       "      <td>0</td>\n",
       "      <td>Female</td>\n",
       "    </tr>\n",
       "    <tr>\n",
       "      <th>4999</th>\n",
       "      <td>1</td>\n",
       "      <td>13.2</td>\n",
       "      <td>6.2</td>\n",
       "      <td>0</td>\n",
       "      <td>0</td>\n",
       "      <td>0</td>\n",
       "      <td>0</td>\n",
       "      <td>Female</td>\n",
       "    </tr>\n",
       "    <tr>\n",
       "      <th>5000</th>\n",
       "      <td>1</td>\n",
       "      <td>15.4</td>\n",
       "      <td>5.4</td>\n",
       "      <td>1</td>\n",
       "      <td>1</td>\n",
       "      <td>1</td>\n",
       "      <td>1</td>\n",
       "      <td>Male</td>\n",
       "    </tr>\n",
       "  </tbody>\n",
       "</table>\n",
       "<p>5001 rows × 8 columns</p>\n",
       "</div>"
      ],
      "text/plain": [
       "      long_hair  forehead_width_cm  forehead_height_cm  nose_wide  nose_long  \\\n",
       "0             1               11.8                 6.1          1          0   \n",
       "1             0               14.0                 5.4          0          0   \n",
       "2             0               11.8                 6.3          1          1   \n",
       "3             0               14.4                 6.1          0          1   \n",
       "4             1               13.5                 5.9          0          0   \n",
       "...         ...                ...                 ...        ...        ...   \n",
       "4996          1               13.6                 5.1          0          0   \n",
       "4997          1               11.9                 5.4          0          0   \n",
       "4998          1               12.9                 5.7          0          0   \n",
       "4999          1               13.2                 6.2          0          0   \n",
       "5000          1               15.4                 5.4          1          1   \n",
       "\n",
       "      lips_thin  distance_nose_to_lip_long  gender  \n",
       "0             1                          1    Male  \n",
       "1             1                          0  Female  \n",
       "2             1                          1    Male  \n",
       "3             1                          1    Male  \n",
       "4             0                          0  Female  \n",
       "...         ...                        ...     ...  \n",
       "4996          0                          0  Female  \n",
       "4997          0                          0  Female  \n",
       "4998          0                          0  Female  \n",
       "4999          0                          0  Female  \n",
       "5000          1                          1    Male  \n",
       "\n",
       "[5001 rows x 8 columns]"
      ]
     },
     "execution_count": 2,
     "metadata": {},
     "output_type": "execute_result"
    }
   ],
   "source": [
    "data=pd.read_csv('/kaggle/input/gender-classification-dataset/gender_classification_v7.csv')\n",
    "data"
   ]
  },
  {
   "cell_type": "code",
   "execution_count": 3,
   "id": "2542794d",
   "metadata": {
    "execution": {
     "iopub.execute_input": "2023-06-23T04:44:31.681176Z",
     "iopub.status.busy": "2023-06-23T04:44:31.680205Z",
     "iopub.status.idle": "2023-06-23T04:44:31.706093Z",
     "shell.execute_reply": "2023-06-23T04:44:31.705317Z"
    },
    "papermill": {
     "duration": 0.047525,
     "end_time": "2023-06-23T04:44:31.708416",
     "exception": false,
     "start_time": "2023-06-23T04:44:31.660891",
     "status": "completed"
    },
    "tags": []
   },
   "outputs": [
    {
     "name": "stdout",
     "output_type": "stream",
     "text": [
      "<class 'pandas.core.frame.DataFrame'>\n",
      "RangeIndex: 5001 entries, 0 to 5000\n",
      "Data columns (total 8 columns):\n",
      " #   Column                     Non-Null Count  Dtype  \n",
      "---  ------                     --------------  -----  \n",
      " 0   long_hair                  5001 non-null   int64  \n",
      " 1   forehead_width_cm          5001 non-null   float64\n",
      " 2   forehead_height_cm         5001 non-null   float64\n",
      " 3   nose_wide                  5001 non-null   int64  \n",
      " 4   nose_long                  5001 non-null   int64  \n",
      " 5   lips_thin                  5001 non-null   int64  \n",
      " 6   distance_nose_to_lip_long  5001 non-null   int64  \n",
      " 7   gender                     5001 non-null   object \n",
      "dtypes: float64(2), int64(5), object(1)\n",
      "memory usage: 312.7+ KB\n"
     ]
    }
   ],
   "source": [
    "data.info()"
   ]
  },
  {
   "cell_type": "code",
   "execution_count": 4,
   "id": "89cd2ed1",
   "metadata": {
    "execution": {
     "iopub.execute_input": "2023-06-23T04:44:31.738922Z",
     "iopub.status.busy": "2023-06-23T04:44:31.738603Z",
     "iopub.status.idle": "2023-06-23T04:44:31.744515Z",
     "shell.execute_reply": "2023-06-23T04:44:31.743637Z"
    },
    "papermill": {
     "duration": 0.022181,
     "end_time": "2023-06-23T04:44:31.746242",
     "exception": false,
     "start_time": "2023-06-23T04:44:31.724061",
     "status": "completed"
    },
    "tags": []
   },
   "outputs": [
    {
     "data": {
      "text/plain": [
       "Index(['long_hair', 'forehead_width_cm', 'forehead_height_cm', 'nose_wide',\n",
       "       'nose_long', 'lips_thin', 'distance_nose_to_lip_long', 'gender'],\n",
       "      dtype='object')"
      ]
     },
     "execution_count": 4,
     "metadata": {},
     "output_type": "execute_result"
    }
   ],
   "source": [
    "data.columns"
   ]
  },
  {
   "cell_type": "code",
   "execution_count": 5,
   "id": "7c3e244d",
   "metadata": {
    "execution": {
     "iopub.execute_input": "2023-06-23T04:44:31.775233Z",
     "iopub.status.busy": "2023-06-23T04:44:31.774901Z",
     "iopub.status.idle": "2023-06-23T04:44:31.785865Z",
     "shell.execute_reply": "2023-06-23T04:44:31.784980Z"
    },
    "papermill": {
     "duration": 0.027899,
     "end_time": "2023-06-23T04:44:31.788093",
     "exception": false,
     "start_time": "2023-06-23T04:44:31.760194",
     "status": "completed"
    },
    "tags": []
   },
   "outputs": [
    {
     "data": {
      "text/html": [
       "<div>\n",
       "<style scoped>\n",
       "    .dataframe tbody tr th:only-of-type {\n",
       "        vertical-align: middle;\n",
       "    }\n",
       "\n",
       "    .dataframe tbody tr th {\n",
       "        vertical-align: top;\n",
       "    }\n",
       "\n",
       "    .dataframe thead th {\n",
       "        text-align: right;\n",
       "    }\n",
       "</style>\n",
       "<table border=\"1\" class=\"dataframe\">\n",
       "  <thead>\n",
       "    <tr style=\"text-align: right;\">\n",
       "      <th></th>\n",
       "      <th>long_hair</th>\n",
       "      <th>forehead_width_cm</th>\n",
       "      <th>forehead_height_cm</th>\n",
       "      <th>nose_wide</th>\n",
       "      <th>nose_long</th>\n",
       "      <th>lips_thin</th>\n",
       "      <th>distance_nose_to_lip_long</th>\n",
       "      <th>gender</th>\n",
       "    </tr>\n",
       "  </thead>\n",
       "  <tbody>\n",
       "    <tr>\n",
       "      <th>0</th>\n",
       "      <td>1</td>\n",
       "      <td>11.8</td>\n",
       "      <td>6.1</td>\n",
       "      <td>1</td>\n",
       "      <td>0</td>\n",
       "      <td>1</td>\n",
       "      <td>1</td>\n",
       "      <td>Male</td>\n",
       "    </tr>\n",
       "    <tr>\n",
       "      <th>1</th>\n",
       "      <td>0</td>\n",
       "      <td>14.0</td>\n",
       "      <td>5.4</td>\n",
       "      <td>0</td>\n",
       "      <td>0</td>\n",
       "      <td>1</td>\n",
       "      <td>0</td>\n",
       "      <td>Female</td>\n",
       "    </tr>\n",
       "    <tr>\n",
       "      <th>2</th>\n",
       "      <td>0</td>\n",
       "      <td>11.8</td>\n",
       "      <td>6.3</td>\n",
       "      <td>1</td>\n",
       "      <td>1</td>\n",
       "      <td>1</td>\n",
       "      <td>1</td>\n",
       "      <td>Male</td>\n",
       "    </tr>\n",
       "    <tr>\n",
       "      <th>3</th>\n",
       "      <td>0</td>\n",
       "      <td>14.4</td>\n",
       "      <td>6.1</td>\n",
       "      <td>0</td>\n",
       "      <td>1</td>\n",
       "      <td>1</td>\n",
       "      <td>1</td>\n",
       "      <td>Male</td>\n",
       "    </tr>\n",
       "    <tr>\n",
       "      <th>4</th>\n",
       "      <td>1</td>\n",
       "      <td>13.5</td>\n",
       "      <td>5.9</td>\n",
       "      <td>0</td>\n",
       "      <td>0</td>\n",
       "      <td>0</td>\n",
       "      <td>0</td>\n",
       "      <td>Female</td>\n",
       "    </tr>\n",
       "  </tbody>\n",
       "</table>\n",
       "</div>"
      ],
      "text/plain": [
       "   long_hair  forehead_width_cm  forehead_height_cm  nose_wide  nose_long  \\\n",
       "0          1               11.8                 6.1          1          0   \n",
       "1          0               14.0                 5.4          0          0   \n",
       "2          0               11.8                 6.3          1          1   \n",
       "3          0               14.4                 6.1          0          1   \n",
       "4          1               13.5                 5.9          0          0   \n",
       "\n",
       "   lips_thin  distance_nose_to_lip_long  gender  \n",
       "0          1                          1    Male  \n",
       "1          1                          0  Female  \n",
       "2          1                          1    Male  \n",
       "3          1                          1    Male  \n",
       "4          0                          0  Female  "
      ]
     },
     "execution_count": 5,
     "metadata": {},
     "output_type": "execute_result"
    }
   ],
   "source": [
    "data.head()"
   ]
  },
  {
   "cell_type": "code",
   "execution_count": 6,
   "id": "9a78a79b",
   "metadata": {
    "execution": {
     "iopub.execute_input": "2023-06-23T04:44:31.818148Z",
     "iopub.status.busy": "2023-06-23T04:44:31.817603Z",
     "iopub.status.idle": "2023-06-23T04:44:31.822871Z",
     "shell.execute_reply": "2023-06-23T04:44:31.822213Z"
    },
    "papermill": {
     "duration": 0.022099,
     "end_time": "2023-06-23T04:44:31.824523",
     "exception": false,
     "start_time": "2023-06-23T04:44:31.802424",
     "status": "completed"
    },
    "tags": []
   },
   "outputs": [
    {
     "data": {
      "text/plain": [
       "(5001, 8)"
      ]
     },
     "execution_count": 6,
     "metadata": {},
     "output_type": "execute_result"
    }
   ],
   "source": [
    "data.shape"
   ]
  },
  {
   "cell_type": "code",
   "execution_count": 7,
   "id": "f6e2d073",
   "metadata": {
    "execution": {
     "iopub.execute_input": "2023-06-23T04:44:31.854243Z",
     "iopub.status.busy": "2023-06-23T04:44:31.853921Z",
     "iopub.status.idle": "2023-06-23T04:44:31.881385Z",
     "shell.execute_reply": "2023-06-23T04:44:31.880591Z"
    },
    "papermill": {
     "duration": 0.044417,
     "end_time": "2023-06-23T04:44:31.883105",
     "exception": false,
     "start_time": "2023-06-23T04:44:31.838688",
     "status": "completed"
    },
    "tags": []
   },
   "outputs": [
    {
     "data": {
      "text/html": [
       "<div>\n",
       "<style scoped>\n",
       "    .dataframe tbody tr th:only-of-type {\n",
       "        vertical-align: middle;\n",
       "    }\n",
       "\n",
       "    .dataframe tbody tr th {\n",
       "        vertical-align: top;\n",
       "    }\n",
       "\n",
       "    .dataframe thead th {\n",
       "        text-align: right;\n",
       "    }\n",
       "</style>\n",
       "<table border=\"1\" class=\"dataframe\">\n",
       "  <thead>\n",
       "    <tr style=\"text-align: right;\">\n",
       "      <th></th>\n",
       "      <th>long_hair</th>\n",
       "      <th>forehead_width_cm</th>\n",
       "      <th>forehead_height_cm</th>\n",
       "      <th>nose_wide</th>\n",
       "      <th>nose_long</th>\n",
       "      <th>lips_thin</th>\n",
       "      <th>distance_nose_to_lip_long</th>\n",
       "    </tr>\n",
       "  </thead>\n",
       "  <tbody>\n",
       "    <tr>\n",
       "      <th>count</th>\n",
       "      <td>5001.000000</td>\n",
       "      <td>5001.000000</td>\n",
       "      <td>5001.000000</td>\n",
       "      <td>5001.000000</td>\n",
       "      <td>5001.000000</td>\n",
       "      <td>5001.000000</td>\n",
       "      <td>5001.000000</td>\n",
       "    </tr>\n",
       "    <tr>\n",
       "      <th>mean</th>\n",
       "      <td>0.869626</td>\n",
       "      <td>13.181484</td>\n",
       "      <td>5.946311</td>\n",
       "      <td>0.493901</td>\n",
       "      <td>0.507898</td>\n",
       "      <td>0.493101</td>\n",
       "      <td>0.498900</td>\n",
       "    </tr>\n",
       "    <tr>\n",
       "      <th>std</th>\n",
       "      <td>0.336748</td>\n",
       "      <td>1.107128</td>\n",
       "      <td>0.541268</td>\n",
       "      <td>0.500013</td>\n",
       "      <td>0.499988</td>\n",
       "      <td>0.500002</td>\n",
       "      <td>0.500049</td>\n",
       "    </tr>\n",
       "    <tr>\n",
       "      <th>min</th>\n",
       "      <td>0.000000</td>\n",
       "      <td>11.400000</td>\n",
       "      <td>5.100000</td>\n",
       "      <td>0.000000</td>\n",
       "      <td>0.000000</td>\n",
       "      <td>0.000000</td>\n",
       "      <td>0.000000</td>\n",
       "    </tr>\n",
       "    <tr>\n",
       "      <th>25%</th>\n",
       "      <td>1.000000</td>\n",
       "      <td>12.200000</td>\n",
       "      <td>5.500000</td>\n",
       "      <td>0.000000</td>\n",
       "      <td>0.000000</td>\n",
       "      <td>0.000000</td>\n",
       "      <td>0.000000</td>\n",
       "    </tr>\n",
       "    <tr>\n",
       "      <th>50%</th>\n",
       "      <td>1.000000</td>\n",
       "      <td>13.100000</td>\n",
       "      <td>5.900000</td>\n",
       "      <td>0.000000</td>\n",
       "      <td>1.000000</td>\n",
       "      <td>0.000000</td>\n",
       "      <td>0.000000</td>\n",
       "    </tr>\n",
       "    <tr>\n",
       "      <th>75%</th>\n",
       "      <td>1.000000</td>\n",
       "      <td>14.000000</td>\n",
       "      <td>6.400000</td>\n",
       "      <td>1.000000</td>\n",
       "      <td>1.000000</td>\n",
       "      <td>1.000000</td>\n",
       "      <td>1.000000</td>\n",
       "    </tr>\n",
       "    <tr>\n",
       "      <th>max</th>\n",
       "      <td>1.000000</td>\n",
       "      <td>15.500000</td>\n",
       "      <td>7.100000</td>\n",
       "      <td>1.000000</td>\n",
       "      <td>1.000000</td>\n",
       "      <td>1.000000</td>\n",
       "      <td>1.000000</td>\n",
       "    </tr>\n",
       "  </tbody>\n",
       "</table>\n",
       "</div>"
      ],
      "text/plain": [
       "         long_hair  forehead_width_cm  forehead_height_cm    nose_wide  \\\n",
       "count  5001.000000        5001.000000         5001.000000  5001.000000   \n",
       "mean      0.869626          13.181484            5.946311     0.493901   \n",
       "std       0.336748           1.107128            0.541268     0.500013   \n",
       "min       0.000000          11.400000            5.100000     0.000000   \n",
       "25%       1.000000          12.200000            5.500000     0.000000   \n",
       "50%       1.000000          13.100000            5.900000     0.000000   \n",
       "75%       1.000000          14.000000            6.400000     1.000000   \n",
       "max       1.000000          15.500000            7.100000     1.000000   \n",
       "\n",
       "         nose_long    lips_thin  distance_nose_to_lip_long  \n",
       "count  5001.000000  5001.000000                5001.000000  \n",
       "mean      0.507898     0.493101                   0.498900  \n",
       "std       0.499988     0.500002                   0.500049  \n",
       "min       0.000000     0.000000                   0.000000  \n",
       "25%       0.000000     0.000000                   0.000000  \n",
       "50%       1.000000     0.000000                   0.000000  \n",
       "75%       1.000000     1.000000                   1.000000  \n",
       "max       1.000000     1.000000                   1.000000  "
      ]
     },
     "execution_count": 7,
     "metadata": {},
     "output_type": "execute_result"
    }
   ],
   "source": [
    "data.describe()"
   ]
  },
  {
   "cell_type": "code",
   "execution_count": 8,
   "id": "db4f9789",
   "metadata": {
    "execution": {
     "iopub.execute_input": "2023-06-23T04:44:31.912859Z",
     "iopub.status.busy": "2023-06-23T04:44:31.911813Z",
     "iopub.status.idle": "2023-06-23T04:44:31.920113Z",
     "shell.execute_reply": "2023-06-23T04:44:31.919578Z"
    },
    "papermill": {
     "duration": 0.024438,
     "end_time": "2023-06-23T04:44:31.921546",
     "exception": false,
     "start_time": "2023-06-23T04:44:31.897108",
     "status": "completed"
    },
    "tags": []
   },
   "outputs": [
    {
     "data": {
      "text/plain": [
       "long_hair                    0.0\n",
       "forehead_width_cm            0.0\n",
       "forehead_height_cm           0.0\n",
       "nose_wide                    0.0\n",
       "nose_long                    0.0\n",
       "lips_thin                    0.0\n",
       "distance_nose_to_lip_long    0.0\n",
       "gender                       0.0\n",
       "dtype: float64"
      ]
     },
     "execution_count": 8,
     "metadata": {},
     "output_type": "execute_result"
    }
   ],
   "source": [
    "data.isnull().sum()/len(data)"
   ]
  },
  {
   "cell_type": "markdown",
   "id": "e43b2478",
   "metadata": {
    "papermill": {
     "duration": 0.016011,
     "end_time": "2023-06-23T04:44:31.951450",
     "exception": false,
     "start_time": "2023-06-23T04:44:31.935439",
     "status": "completed"
    },
    "tags": []
   },
   "source": [
    "# Data Cleaning Not required, NO null values"
   ]
  },
  {
   "cell_type": "markdown",
   "id": "99a05322",
   "metadata": {
    "papermill": {
     "duration": 0.016529,
     "end_time": "2023-06-23T04:44:31.983866",
     "exception": false,
     "start_time": "2023-06-23T04:44:31.967337",
     "status": "completed"
    },
    "tags": []
   },
   "source": [
    "# DATA MAPPING"
   ]
  },
  {
   "cell_type": "code",
   "execution_count": 9,
   "id": "e98bc0d5",
   "metadata": {
    "execution": {
     "iopub.execute_input": "2023-06-23T04:44:32.015855Z",
     "iopub.status.busy": "2023-06-23T04:44:32.015252Z",
     "iopub.status.idle": "2023-06-23T04:44:32.020615Z",
     "shell.execute_reply": "2023-06-23T04:44:32.019860Z"
    },
    "papermill": {
     "duration": 0.024027,
     "end_time": "2023-06-23T04:44:32.022889",
     "exception": false,
     "start_time": "2023-06-23T04:44:31.998862",
     "status": "completed"
    },
    "tags": []
   },
   "outputs": [],
   "source": [
    "numericGender={'Male':1, 'Female':0}\n",
    "data['gender']=data['gender'].map(numericGender)"
   ]
  },
  {
   "cell_type": "code",
   "execution_count": 10,
   "id": "4fc78d77",
   "metadata": {
    "execution": {
     "iopub.execute_input": "2023-06-23T04:44:32.055398Z",
     "iopub.status.busy": "2023-06-23T04:44:32.054765Z",
     "iopub.status.idle": "2023-06-23T04:44:32.062479Z",
     "shell.execute_reply": "2023-06-23T04:44:32.061326Z"
    },
    "papermill": {
     "duration": 0.025475,
     "end_time": "2023-06-23T04:44:32.064396",
     "exception": false,
     "start_time": "2023-06-23T04:44:32.038921",
     "status": "completed"
    },
    "tags": []
   },
   "outputs": [
    {
     "data": {
      "text/plain": [
       "0       1\n",
       "1       0\n",
       "2       1\n",
       "3       1\n",
       "4       0\n",
       "       ..\n",
       "4996    0\n",
       "4997    0\n",
       "4998    0\n",
       "4999    0\n",
       "5000    1\n",
       "Name: gender, Length: 5001, dtype: int64"
      ]
     },
     "execution_count": 10,
     "metadata": {},
     "output_type": "execute_result"
    }
   ],
   "source": [
    "data['gender']"
   ]
  },
  {
   "cell_type": "markdown",
   "id": "7668cb4b",
   "metadata": {
    "papermill": {
     "duration": 0.013901,
     "end_time": "2023-06-23T04:44:32.092911",
     "exception": false,
     "start_time": "2023-06-23T04:44:32.079010",
     "status": "completed"
    },
    "tags": []
   },
   "source": [
    "# Data Visualization\n"
   ]
  },
  {
   "cell_type": "code",
   "execution_count": 11,
   "id": "df8e09b2",
   "metadata": {
    "execution": {
     "iopub.execute_input": "2023-06-23T04:44:32.123320Z",
     "iopub.status.busy": "2023-06-23T04:44:32.122952Z",
     "iopub.status.idle": "2023-06-23T04:44:33.415135Z",
     "shell.execute_reply": "2023-06-23T04:44:33.414017Z"
    },
    "papermill": {
     "duration": 1.310309,
     "end_time": "2023-06-23T04:44:33.417543",
     "exception": false,
     "start_time": "2023-06-23T04:44:32.107234",
     "status": "completed"
    },
    "tags": []
   },
   "outputs": [],
   "source": [
    "import seaborn as sns\n",
    "import matplotlib.pyplot as plt"
   ]
  },
  {
   "cell_type": "code",
   "execution_count": 12,
   "id": "a0307373",
   "metadata": {
    "execution": {
     "iopub.execute_input": "2023-06-23T04:44:33.448287Z",
     "iopub.status.busy": "2023-06-23T04:44:33.447870Z",
     "iopub.status.idle": "2023-06-23T04:44:33.747467Z",
     "shell.execute_reply": "2023-06-23T04:44:33.746567Z"
    },
    "papermill": {
     "duration": 0.316997,
     "end_time": "2023-06-23T04:44:33.749178",
     "exception": false,
     "start_time": "2023-06-23T04:44:33.432181",
     "status": "completed"
    },
    "tags": []
   },
   "outputs": [
    {
     "data": {
      "text/plain": [
       "<seaborn.axisgrid.FacetGrid at 0x796de8e4f7f0>"
      ]
     },
     "execution_count": 12,
     "metadata": {},
     "output_type": "execute_result"
    },
    {
     "data": {
      "image/png": "[encoded data removed]",
      "text/plain": [
       "<Figure size 560.361x500 with 1 Axes>"
      ]
     },
     "metadata": {},
     "output_type": "display_data"
    }
   ],
   "source": [
    "sns.catplot(x=\"nose_wide\", hue=\"gender\", kind=\"count\", data=data)"
   ]
  },
  {
   "cell_type": "code",
   "execution_count": 13,
   "id": "dc943fcd",
   "metadata": {
    "execution": {
     "iopub.execute_input": "2023-06-23T04:44:33.780697Z",
     "iopub.status.busy": "2023-06-23T04:44:33.780352Z",
     "iopub.status.idle": "2023-06-23T04:44:34.052142Z",
     "shell.execute_reply": "2023-06-23T04:44:34.051532Z"
    },
    "papermill": {
     "duration": 0.290156,
     "end_time": "2023-06-23T04:44:34.053847",
     "exception": false,
     "start_time": "2023-06-23T04:44:33.763691",
     "status": "completed"
    },
    "tags": []
   },
   "outputs": [
    {
     "data": {
      "text/plain": [
       "<seaborn.axisgrid.FacetGrid at 0x796daa38a4a0>"
      ]
     },
     "execution_count": 13,
     "metadata": {},
     "output_type": "execute_result"
    },
    {
     "data": {
      "image/png": "[encoded data removed]",
      "text/plain": [
       "<Figure size 560.361x500 with 1 Axes>"
      ]
     },
     "metadata": {},
     "output_type": "display_data"
    }
   ],
   "source": [
    "sns.catplot(x=\"nose_long\", hue=\"gender\", kind=\"count\", data=data)"
   ]
  },
  {
   "cell_type": "code",
   "execution_count": 14,
   "id": "bccbcea8",
   "metadata": {
    "execution": {
     "iopub.execute_input": "2023-06-23T04:44:34.087994Z",
     "iopub.status.busy": "2023-06-23T04:44:34.087083Z",
     "iopub.status.idle": "2023-06-23T04:44:34.363807Z",
     "shell.execute_reply": "2023-06-23T04:44:34.362690Z"
    },
    "papermill": {
     "duration": 0.2955,
     "end_time": "2023-06-23T04:44:34.365610",
     "exception": false,
     "start_time": "2023-06-23T04:44:34.070110",
     "status": "completed"
    },
    "tags": []
   },
   "outputs": [
    {
     "data": {
      "text/plain": [
       "<seaborn.axisgrid.FacetGrid at 0x796d997225c0>"
      ]
     },
     "execution_count": 14,
     "metadata": {},
     "output_type": "execute_result"
    },
    {
     "data": {
      "image/png": "[encoded data removed]",
      "text/plain": [
       "<Figure size 560.361x500 with 1 Axes>"
      ]
     },
     "metadata": {},
     "output_type": "display_data"
    }
   ],
   "source": [
    "sns.catplot(x=\"lips_thin\", hue=\"gender\", kind=\"count\", data=data)"
   ]
  },
  {
   "cell_type": "code",
   "execution_count": 15,
   "id": "08ebede7",
   "metadata": {
    "execution": {
     "iopub.execute_input": "2023-06-23T04:44:34.398024Z",
     "iopub.status.busy": "2023-06-23T04:44:34.397692Z",
     "iopub.status.idle": "2023-06-23T04:44:34.674861Z",
     "shell.execute_reply": "2023-06-23T04:44:34.673791Z"
    },
    "papermill": {
     "duration": 0.296064,
     "end_time": "2023-06-23T04:44:34.677276",
     "exception": false,
     "start_time": "2023-06-23T04:44:34.381212",
     "status": "completed"
    },
    "tags": []
   },
   "outputs": [
    {
     "data": {
      "text/plain": [
       "<seaborn.axisgrid.FacetGrid at 0x796d996cb430>"
      ]
     },
     "execution_count": 15,
     "metadata": {},
     "output_type": "execute_result"
    },
    {
     "data": {
      "image/png": "[encoded data removed]",
      "text/plain": [
       "<Figure size 560.361x500 with 1 Axes>"
      ]
     },
     "metadata": {},
     "output_type": "display_data"
    }
   ],
   "source": [
    "sns.catplot(x='distance_nose_to_lip_long',hue='gender',data=data,kind='count')"
   ]
  },
  {
   "cell_type": "code",
   "execution_count": 16,
   "id": "5c365f01",
   "metadata": {
    "execution": {
     "iopub.execute_input": "2023-06-23T04:44:34.710972Z",
     "iopub.status.busy": "2023-06-23T04:44:34.710588Z",
     "iopub.status.idle": "2023-06-23T04:44:34.990383Z",
     "shell.execute_reply": "2023-06-23T04:44:34.989107Z"
    },
    "papermill": {
     "duration": 0.298831,
     "end_time": "2023-06-23T04:44:34.992726",
     "exception": false,
     "start_time": "2023-06-23T04:44:34.693895",
     "status": "completed"
    },
    "tags": []
   },
   "outputs": [
    {
     "data": {
      "text/plain": [
       "<seaborn.axisgrid.FacetGrid at 0x796d971c5750>"
      ]
     },
     "execution_count": 16,
     "metadata": {},
     "output_type": "execute_result"
    },
    {
     "data": {
      "image/png": "[encoded data removed]",
      "text/plain": [
       "<Figure size 560.361x500 with 1 Axes>"
      ]
     },
     "metadata": {},
     "output_type": "display_data"
    }
   ],
   "source": [
    "sns.catplot(data=data,x='long_hair',hue='gender',kind='count')"
   ]
  },
  {
   "cell_type": "code",
   "execution_count": 17,
   "id": "317897b3",
   "metadata": {
    "execution": {
     "iopub.execute_input": "2023-06-23T04:44:35.026658Z",
     "iopub.status.busy": "2023-06-23T04:44:35.026334Z",
     "iopub.status.idle": "2023-06-23T04:44:35.042649Z",
     "shell.execute_reply": "2023-06-23T04:44:35.041676Z"
    },
    "papermill": {
     "duration": 0.035169,
     "end_time": "2023-06-23T04:44:35.044499",
     "exception": false,
     "start_time": "2023-06-23T04:44:35.009330",
     "status": "completed"
    },
    "tags": []
   },
   "outputs": [
    {
     "data": {
      "text/html": [
       "<div>\n",
       "<style scoped>\n",
       "    .dataframe tbody tr th:only-of-type {\n",
       "        vertical-align: middle;\n",
       "    }\n",
       "\n",
       "    .dataframe tbody tr th {\n",
       "        vertical-align: top;\n",
       "    }\n",
       "\n",
       "    .dataframe thead th {\n",
       "        text-align: right;\n",
       "    }\n",
       "</style>\n",
       "<table border=\"1\" class=\"dataframe\">\n",
       "  <thead>\n",
       "    <tr style=\"text-align: right;\">\n",
       "      <th></th>\n",
       "      <th>long_hair</th>\n",
       "      <th>forehead_width_cm</th>\n",
       "      <th>forehead_height_cm</th>\n",
       "      <th>nose_wide</th>\n",
       "      <th>nose_long</th>\n",
       "      <th>lips_thin</th>\n",
       "      <th>distance_nose_to_lip_long</th>\n",
       "      <th>gender</th>\n",
       "    </tr>\n",
       "  </thead>\n",
       "  <tbody>\n",
       "    <tr>\n",
       "      <th>long_hair</th>\n",
       "      <td>1.000000</td>\n",
       "      <td>-0.006530</td>\n",
       "      <td>-0.017233</td>\n",
       "      <td>0.001216</td>\n",
       "      <td>0.014432</td>\n",
       "      <td>0.011287</td>\n",
       "      <td>-0.025794</td>\n",
       "      <td>-0.010767</td>\n",
       "    </tr>\n",
       "    <tr>\n",
       "      <th>forehead_width_cm</th>\n",
       "      <td>-0.006530</td>\n",
       "      <td>1.000000</td>\n",
       "      <td>0.088596</td>\n",
       "      <td>0.251648</td>\n",
       "      <td>0.257368</td>\n",
       "      <td>0.258564</td>\n",
       "      <td>0.251328</td>\n",
       "      <td>0.334125</td>\n",
       "    </tr>\n",
       "    <tr>\n",
       "      <th>forehead_height_cm</th>\n",
       "      <td>-0.017233</td>\n",
       "      <td>0.088596</td>\n",
       "      <td>1.000000</td>\n",
       "      <td>0.211655</td>\n",
       "      <td>0.194120</td>\n",
       "      <td>0.205441</td>\n",
       "      <td>0.215292</td>\n",
       "      <td>0.277190</td>\n",
       "    </tr>\n",
       "    <tr>\n",
       "      <th>nose_wide</th>\n",
       "      <td>0.001216</td>\n",
       "      <td>0.251648</td>\n",
       "      <td>0.211655</td>\n",
       "      <td>1.000000</td>\n",
       "      <td>0.565192</td>\n",
       "      <td>0.557615</td>\n",
       "      <td>0.569303</td>\n",
       "      <td>0.758502</td>\n",
       "    </tr>\n",
       "    <tr>\n",
       "      <th>nose_long</th>\n",
       "      <td>0.014432</td>\n",
       "      <td>0.257368</td>\n",
       "      <td>0.194120</td>\n",
       "      <td>0.565192</td>\n",
       "      <td>1.000000</td>\n",
       "      <td>0.561229</td>\n",
       "      <td>0.559794</td>\n",
       "      <td>0.744147</td>\n",
       "    </tr>\n",
       "    <tr>\n",
       "      <th>lips_thin</th>\n",
       "      <td>0.011287</td>\n",
       "      <td>0.258564</td>\n",
       "      <td>0.205441</td>\n",
       "      <td>0.557615</td>\n",
       "      <td>0.561229</td>\n",
       "      <td>1.000000</td>\n",
       "      <td>0.565312</td>\n",
       "      <td>0.743319</td>\n",
       "    </tr>\n",
       "    <tr>\n",
       "      <th>distance_nose_to_lip_long</th>\n",
       "      <td>-0.025794</td>\n",
       "      <td>0.251328</td>\n",
       "      <td>0.215292</td>\n",
       "      <td>0.569303</td>\n",
       "      <td>0.559794</td>\n",
       "      <td>0.565312</td>\n",
       "      <td>1.000000</td>\n",
       "      <td>0.754850</td>\n",
       "    </tr>\n",
       "    <tr>\n",
       "      <th>gender</th>\n",
       "      <td>-0.010767</td>\n",
       "      <td>0.334125</td>\n",
       "      <td>0.277190</td>\n",
       "      <td>0.758502</td>\n",
       "      <td>0.744147</td>\n",
       "      <td>0.743319</td>\n",
       "      <td>0.754850</td>\n",
       "      <td>1.000000</td>\n",
       "    </tr>\n",
       "  </tbody>\n",
       "</table>\n",
       "</div>"
      ],
      "text/plain": [
       "                           long_hair  forehead_width_cm  forehead_height_cm  \\\n",
       "long_hair                   1.000000          -0.006530           -0.017233   \n",
       "forehead_width_cm          -0.006530           1.000000            0.088596   \n",
       "forehead_height_cm         -0.017233           0.088596            1.000000   \n",
       "nose_wide                   0.001216           0.251648            0.211655   \n",
       "nose_long                   0.014432           0.257368            0.194120   \n",
       "lips_thin                   0.011287           0.258564            0.205441   \n",
       "distance_nose_to_lip_long  -0.025794           0.251328            0.215292   \n",
       "gender                     -0.010767           0.334125            0.277190   \n",
       "\n",
       "                           nose_wide  nose_long  lips_thin  \\\n",
       "long_hair                   0.001216   0.014432   0.011287   \n",
       "forehead_width_cm           0.251648   0.257368   0.258564   \n",
       "forehead_height_cm          0.211655   0.194120   0.205441   \n",
       "nose_wide                   1.000000   0.565192   0.557615   \n",
       "nose_long                   0.565192   1.000000   0.561229   \n",
       "lips_thin                   0.557615   0.561229   1.000000   \n",
       "distance_nose_to_lip_long   0.569303   0.559794   0.565312   \n",
       "gender                      0.758502   0.744147   0.743319   \n",
       "\n",
       "                           distance_nose_to_lip_long    gender  \n",
       "long_hair                                  -0.025794 -0.010767  \n",
       "forehead_width_cm                           0.251328  0.334125  \n",
       "forehead_height_cm                          0.215292  0.277190  \n",
       "nose_wide                                   0.569303  0.758502  \n",
       "nose_long                                   0.559794  0.744147  \n",
       "lips_thin                                   0.565312  0.743319  \n",
       "distance_nose_to_lip_long                   1.000000  0.754850  \n",
       "gender                                      0.754850  1.000000  "
      ]
     },
     "execution_count": 17,
     "metadata": {},
     "output_type": "execute_result"
    }
   ],
   "source": [
    "correl=data.corr()\n",
    "correl"
   ]
  },
  {
   "cell_type": "code",
   "execution_count": 18,
   "id": "62f80bc2",
   "metadata": {
    "execution": {
     "iopub.execute_input": "2023-06-23T04:44:35.078529Z",
     "iopub.status.busy": "2023-06-23T04:44:35.078157Z",
     "iopub.status.idle": "2023-06-23T04:44:35.085164Z",
     "shell.execute_reply": "2023-06-23T04:44:35.083537Z"
    },
    "papermill": {
     "duration": 0.026929,
     "end_time": "2023-06-23T04:44:35.087732",
     "exception": false,
     "start_time": "2023-06-23T04:44:35.060803",
     "status": "completed"
    },
    "tags": []
   },
   "outputs": [
    {
     "name": "stdout",
     "output_type": "stream",
     "text": [
      "long_hair                   -0.010767\n",
      "forehead_width_cm            0.334125\n",
      "forehead_height_cm           0.277190\n",
      "nose_wide                    0.758502\n",
      "nose_long                    0.744147\n",
      "lips_thin                    0.743319\n",
      "distance_nose_to_lip_long    0.754850\n",
      "gender                       1.000000\n",
      "Name: gender, dtype: float64\n"
     ]
    }
   ],
   "source": [
    "print(correl['gender'])"
   ]
  },
  {
   "cell_type": "code",
   "execution_count": 19,
   "id": "88f72101",
   "metadata": {
    "execution": {
     "iopub.execute_input": "2023-06-23T04:44:35.123522Z",
     "iopub.status.busy": "2023-06-23T04:44:35.122178Z",
     "iopub.status.idle": "2023-06-23T04:44:35.588907Z",
     "shell.execute_reply": "2023-06-23T04:44:35.588238Z"
    },
    "papermill": {
     "duration": 0.486363,
     "end_time": "2023-06-23T04:44:35.590817",
     "exception": false,
     "start_time": "2023-06-23T04:44:35.104454",
     "status": "completed"
    },
    "tags": []
   },
   "outputs": [
    {
     "data": {
      "text/plain": [
       "<Axes: >"
      ]
     },
     "execution_count": 19,
     "metadata": {},
     "output_type": "execute_result"
    },
    {
     "data": {
      "image/png": "[encoded data removed]",
      "text/plain": [
       "<Figure size 1500x800 with 2 Axes>"
      ]
     },
     "metadata": {},
     "output_type": "display_data"
    }
   ],
   "source": [
    "plt.figure(figsize=(15,8))\n",
    "sns.heatmap(correl,cbar=True, fmt='.3f',annot=True, annot_kws={'size':9}, cmap=\"YlGnBu\")"
   ]
  },
  {
   "cell_type": "markdown",
   "id": "406371d4",
   "metadata": {
    "papermill": {
     "duration": 0.017641,
     "end_time": "2023-06-23T04:44:35.625977",
     "exception": false,
     "start_time": "2023-06-23T04:44:35.608336",
     "status": "completed"
    },
    "tags": []
   },
   "source": [
    "# Splitting data"
   ]
  },
  {
   "cell_type": "code",
   "execution_count": 20,
   "id": "3c6f0725",
   "metadata": {
    "execution": {
     "iopub.execute_input": "2023-06-23T04:44:35.661734Z",
     "iopub.status.busy": "2023-06-23T04:44:35.661367Z",
     "iopub.status.idle": "2023-06-23T04:44:35.670631Z",
     "shell.execute_reply": "2023-06-23T04:44:35.668844Z"
    },
    "papermill": {
     "duration": 0.030086,
     "end_time": "2023-06-23T04:44:35.673088",
     "exception": false,
     "start_time": "2023-06-23T04:44:35.643002",
     "status": "completed"
    },
    "tags": []
   },
   "outputs": [
    {
     "data": {
      "text/plain": [
       "0       1\n",
       "1       0\n",
       "2       1\n",
       "3       1\n",
       "4       0\n",
       "       ..\n",
       "4996    0\n",
       "4997    0\n",
       "4998    0\n",
       "4999    0\n",
       "5000    1\n",
       "Name: gender, Length: 5001, dtype: int64"
      ]
     },
     "execution_count": 20,
     "metadata": {},
     "output_type": "execute_result"
    }
   ],
   "source": [
    "y=data['gender']\n",
    "y"
   ]
  },
  {
   "cell_type": "code",
   "execution_count": 21,
   "id": "f97527cd",
   "metadata": {
    "execution": {
     "iopub.execute_input": "2023-06-23T04:44:35.711394Z",
     "iopub.status.busy": "2023-06-23T04:44:35.711048Z",
     "iopub.status.idle": "2023-06-23T04:44:35.724343Z",
     "shell.execute_reply": "2023-06-23T04:44:35.723690Z"
    },
    "papermill": {
     "duration": 0.034759,
     "end_time": "2023-06-23T04:44:35.725831",
     "exception": false,
     "start_time": "2023-06-23T04:44:35.691072",
     "status": "completed"
    },
    "tags": []
   },
   "outputs": [
    {
     "data": {
      "text/html": [
       "<div>\n",
       "<style scoped>\n",
       "    .dataframe tbody tr th:only-of-type {\n",
       "        vertical-align: middle;\n",
       "    }\n",
       "\n",
       "    .dataframe tbody tr th {\n",
       "        vertical-align: top;\n",
       "    }\n",
       "\n",
       "    .dataframe thead th {\n",
       "        text-align: right;\n",
       "    }\n",
       "</style>\n",
       "<table border=\"1\" class=\"dataframe\">\n",
       "  <thead>\n",
       "    <tr style=\"text-align: right;\">\n",
       "      <th></th>\n",
       "      <th>long_hair</th>\n",
       "      <th>forehead_width_cm</th>\n",
       "      <th>forehead_height_cm</th>\n",
       "      <th>nose_wide</th>\n",
       "      <th>nose_long</th>\n",
       "      <th>lips_thin</th>\n",
       "      <th>distance_nose_to_lip_long</th>\n",
       "    </tr>\n",
       "  </thead>\n",
       "  <tbody>\n",
       "    <tr>\n",
       "      <th>0</th>\n",
       "      <td>1</td>\n",
       "      <td>11.8</td>\n",
       "      <td>6.1</td>\n",
       "      <td>1</td>\n",
       "      <td>0</td>\n",
       "      <td>1</td>\n",
       "      <td>1</td>\n",
       "    </tr>\n",
       "    <tr>\n",
       "      <th>1</th>\n",
       "      <td>0</td>\n",
       "      <td>14.0</td>\n",
       "      <td>5.4</td>\n",
       "      <td>0</td>\n",
       "      <td>0</td>\n",
       "      <td>1</td>\n",
       "      <td>0</td>\n",
       "    </tr>\n",
       "    <tr>\n",
       "      <th>2</th>\n",
       "      <td>0</td>\n",
       "      <td>11.8</td>\n",
       "      <td>6.3</td>\n",
       "      <td>1</td>\n",
       "      <td>1</td>\n",
       "      <td>1</td>\n",
       "      <td>1</td>\n",
       "    </tr>\n",
       "    <tr>\n",
       "      <th>3</th>\n",
       "      <td>0</td>\n",
       "      <td>14.4</td>\n",
       "      <td>6.1</td>\n",
       "      <td>0</td>\n",
       "      <td>1</td>\n",
       "      <td>1</td>\n",
       "      <td>1</td>\n",
       "    </tr>\n",
       "    <tr>\n",
       "      <th>4</th>\n",
       "      <td>1</td>\n",
       "      <td>13.5</td>\n",
       "      <td>5.9</td>\n",
       "      <td>0</td>\n",
       "      <td>0</td>\n",
       "      <td>0</td>\n",
       "      <td>0</td>\n",
       "    </tr>\n",
       "    <tr>\n",
       "      <th>...</th>\n",
       "      <td>...</td>\n",
       "      <td>...</td>\n",
       "      <td>...</td>\n",
       "      <td>...</td>\n",
       "      <td>...</td>\n",
       "      <td>...</td>\n",
       "      <td>...</td>\n",
       "    </tr>\n",
       "    <tr>\n",
       "      <th>4996</th>\n",
       "      <td>1</td>\n",
       "      <td>13.6</td>\n",
       "      <td>5.1</td>\n",
       "      <td>0</td>\n",
       "      <td>0</td>\n",
       "      <td>0</td>\n",
       "      <td>0</td>\n",
       "    </tr>\n",
       "    <tr>\n",
       "      <th>4997</th>\n",
       "      <td>1</td>\n",
       "      <td>11.9</td>\n",
       "      <td>5.4</td>\n",
       "      <td>0</td>\n",
       "      <td>0</td>\n",
       "      <td>0</td>\n",
       "      <td>0</td>\n",
       "    </tr>\n",
       "    <tr>\n",
       "      <th>4998</th>\n",
       "      <td>1</td>\n",
       "      <td>12.9</td>\n",
       "      <td>5.7</td>\n",
       "      <td>0</td>\n",
       "      <td>0</td>\n",
       "      <td>0</td>\n",
       "      <td>0</td>\n",
       "    </tr>\n",
       "    <tr>\n",
       "      <th>4999</th>\n",
       "      <td>1</td>\n",
       "      <td>13.2</td>\n",
       "      <td>6.2</td>\n",
       "      <td>0</td>\n",
       "      <td>0</td>\n",
       "      <td>0</td>\n",
       "      <td>0</td>\n",
       "    </tr>\n",
       "    <tr>\n",
       "      <th>5000</th>\n",
       "      <td>1</td>\n",
       "      <td>15.4</td>\n",
       "      <td>5.4</td>\n",
       "      <td>1</td>\n",
       "      <td>1</td>\n",
       "      <td>1</td>\n",
       "      <td>1</td>\n",
       "    </tr>\n",
       "  </tbody>\n",
       "</table>\n",
       "<p>5001 rows × 7 columns</p>\n",
       "</div>"
      ],
      "text/plain": [
       "      long_hair  forehead_width_cm  forehead_height_cm  nose_wide  nose_long  \\\n",
       "0             1               11.8                 6.1          1          0   \n",
       "1             0               14.0                 5.4          0          0   \n",
       "2             0               11.8                 6.3          1          1   \n",
       "3             0               14.4                 6.1          0          1   \n",
       "4             1               13.5                 5.9          0          0   \n",
       "...         ...                ...                 ...        ...        ...   \n",
       "4996          1               13.6                 5.1          0          0   \n",
       "4997          1               11.9                 5.4          0          0   \n",
       "4998          1               12.9                 5.7          0          0   \n",
       "4999          1               13.2                 6.2          0          0   \n",
       "5000          1               15.4                 5.4          1          1   \n",
       "\n",
       "      lips_thin  distance_nose_to_lip_long  \n",
       "0             1                          1  \n",
       "1             1                          0  \n",
       "2             1                          1  \n",
       "3             1                          1  \n",
       "4             0                          0  \n",
       "...         ...                        ...  \n",
       "4996          0                          0  \n",
       "4997          0                          0  \n",
       "4998          0                          0  \n",
       "4999          0                          0  \n",
       "5000          1                          1  \n",
       "\n",
       "[5001 rows x 7 columns]"
      ]
     },
     "execution_count": 21,
     "metadata": {},
     "output_type": "execute_result"
    }
   ],
   "source": [
    "x=data.drop('gender',axis='columns')\n",
    "x"
   ]
  },
  {
   "cell_type": "code",
   "execution_count": 22,
   "id": "feb173d6",
   "metadata": {
    "execution": {
     "iopub.execute_input": "2023-06-23T04:44:35.763213Z",
     "iopub.status.busy": "2023-06-23T04:44:35.762874Z",
     "iopub.status.idle": "2023-06-23T04:44:36.004756Z",
     "shell.execute_reply": "2023-06-23T04:44:36.003487Z"
    },
    "papermill": {
     "duration": 0.262891,
     "end_time": "2023-06-23T04:44:36.007017",
     "exception": false,
     "start_time": "2023-06-23T04:44:35.744126",
     "status": "completed"
    },
    "tags": []
   },
   "outputs": [],
   "source": [
    "from sklearn.model_selection import train_test_split"
   ]
  },
  {
   "cell_type": "code",
   "execution_count": 23,
   "id": "3f721c2f",
   "metadata": {
    "execution": {
     "iopub.execute_input": "2023-06-23T04:44:36.045137Z",
     "iopub.status.busy": "2023-06-23T04:44:36.044806Z",
     "iopub.status.idle": "2023-06-23T04:44:36.051344Z",
     "shell.execute_reply": "2023-06-23T04:44:36.050545Z"
    },
    "papermill": {
     "duration": 0.027308,
     "end_time": "2023-06-23T04:44:36.052960",
     "exception": false,
     "start_time": "2023-06-23T04:44:36.025652",
     "status": "completed"
    },
    "tags": []
   },
   "outputs": [],
   "source": [
    "x_train,x_test,y_train,y_test=train_test_split(x,y,random_state=2,test_size=0.2)"
   ]
  },
  {
   "cell_type": "markdown",
   "id": "1173edc8",
   "metadata": {
    "papermill": {
     "duration": 0.01736,
     "end_time": "2023-06-23T04:44:36.088117",
     "exception": false,
     "start_time": "2023-06-23T04:44:36.070757",
     "status": "completed"
    },
    "tags": []
   },
   "source": [
    "# Training using Logistic Refression"
   ]
  },
  {
   "cell_type": "code",
   "execution_count": 24,
   "id": "21a211af",
   "metadata": {
    "execution": {
     "iopub.execute_input": "2023-06-23T04:44:36.124093Z",
     "iopub.status.busy": "2023-06-23T04:44:36.123742Z",
     "iopub.status.idle": "2023-06-23T04:44:36.223194Z",
     "shell.execute_reply": "2023-06-23T04:44:36.222147Z"
    },
    "papermill": {
     "duration": 0.120269,
     "end_time": "2023-06-23T04:44:36.225632",
     "exception": false,
     "start_time": "2023-06-23T04:44:36.105363",
     "status": "completed"
    },
    "tags": []
   },
   "outputs": [],
   "source": [
    "from sklearn.linear_model import LogisticRegression"
   ]
  },
  {
   "cell_type": "code",
   "execution_count": 25,
   "id": "2374dc4c",
   "metadata": {
    "execution": {
     "iopub.execute_input": "2023-06-23T04:44:36.262469Z",
     "iopub.status.busy": "2023-06-23T04:44:36.262081Z",
     "iopub.status.idle": "2023-06-23T04:44:36.296691Z",
     "shell.execute_reply": "2023-06-23T04:44:36.295849Z"
    },
    "papermill": {
     "duration": 0.055196,
     "end_time": "2023-06-23T04:44:36.298986",
     "exception": false,
     "start_time": "2023-06-23T04:44:36.243790",
     "status": "completed"
    },
    "tags": []
   },
   "outputs": [],
   "source": [
    "clf=LogisticRegression().fit(x_train,y_train)"
   ]
  },
  {
   "cell_type": "code",
   "execution_count": 26,
   "id": "0527f8ac",
   "metadata": {
    "execution": {
     "iopub.execute_input": "2023-06-23T04:44:36.346994Z",
     "iopub.status.busy": "2023-06-23T04:44:36.346628Z",
     "iopub.status.idle": "2023-06-23T04:44:36.352478Z",
     "shell.execute_reply": "2023-06-23T04:44:36.351827Z"
    },
    "papermill": {
     "duration": 0.033266,
     "end_time": "2023-06-23T04:44:36.354968",
     "exception": false,
     "start_time": "2023-06-23T04:44:36.321702",
     "status": "completed"
    },
    "tags": []
   },
   "outputs": [],
   "source": [
    "y_pred=clf.predict(x_test)"
   ]
  },
  {
   "cell_type": "code",
   "execution_count": 27,
   "id": "6237a4b0",
   "metadata": {
    "execution": {
     "iopub.execute_input": "2023-06-23T04:44:36.401867Z",
     "iopub.status.busy": "2023-06-23T04:44:36.401536Z",
     "iopub.status.idle": "2023-06-23T04:44:36.405610Z",
     "shell.execute_reply": "2023-06-23T04:44:36.404930Z"
    },
    "papermill": {
     "duration": 0.030876,
     "end_time": "2023-06-23T04:44:36.408941",
     "exception": false,
     "start_time": "2023-06-23T04:44:36.378065",
     "status": "completed"
    },
    "tags": []
   },
   "outputs": [],
   "source": [
    "from sklearn.metrics import accuracy_score"
   ]
  },
  {
   "cell_type": "code",
   "execution_count": 28,
   "id": "251ba90d",
   "metadata": {
    "execution": {
     "iopub.execute_input": "2023-06-23T04:44:36.446519Z",
     "iopub.status.busy": "2023-06-23T04:44:36.446139Z",
     "iopub.status.idle": "2023-06-23T04:44:36.453140Z",
     "shell.execute_reply": "2023-06-23T04:44:36.452529Z"
    },
    "papermill": {
     "duration": 0.027272,
     "end_time": "2023-06-23T04:44:36.454786",
     "exception": false,
     "start_time": "2023-06-23T04:44:36.427514",
     "status": "completed"
    },
    "tags": []
   },
   "outputs": [
    {
     "data": {
      "text/plain": [
       "0.9630369630369631"
      ]
     },
     "execution_count": 28,
     "metadata": {},
     "output_type": "execute_result"
    }
   ],
   "source": [
    "accuracylog=accuracy_score(y_pred,y_test)\n",
    "accuracylog"
   ]
  },
  {
   "cell_type": "markdown",
   "id": "fabdc3ff",
   "metadata": {
    "papermill": {
     "duration": 0.017404,
     "end_time": "2023-06-23T04:44:36.489734",
     "exception": false,
     "start_time": "2023-06-23T04:44:36.472330",
     "status": "completed"
    },
    "tags": []
   },
   "source": [
    "# Desicion Tree"
   ]
  },
  {
   "cell_type": "code",
   "execution_count": 29,
   "id": "a457ffa6",
   "metadata": {
    "execution": {
     "iopub.execute_input": "2023-06-23T04:44:36.527320Z",
     "iopub.status.busy": "2023-06-23T04:44:36.525767Z",
     "iopub.status.idle": "2023-06-23T04:44:36.674104Z",
     "shell.execute_reply": "2023-06-23T04:44:36.673100Z"
    },
    "papermill": {
     "duration": 0.169705,
     "end_time": "2023-06-23T04:44:36.676675",
     "exception": false,
     "start_time": "2023-06-23T04:44:36.506970",
     "status": "completed"
    },
    "tags": []
   },
   "outputs": [],
   "source": [
    "from sklearn import tree"
   ]
  },
  {
   "cell_type": "code",
   "execution_count": 30,
   "id": "61902ca8",
   "metadata": {
    "execution": {
     "iopub.execute_input": "2023-06-23T04:44:36.713644Z",
     "iopub.status.busy": "2023-06-23T04:44:36.713313Z",
     "iopub.status.idle": "2023-06-23T04:44:36.725510Z",
     "shell.execute_reply": "2023-06-23T04:44:36.724534Z"
    },
    "papermill": {
     "duration": 0.032818,
     "end_time": "2023-06-23T04:44:36.727383",
     "exception": false,
     "start_time": "2023-06-23T04:44:36.694565",
     "status": "completed"
    },
    "tags": []
   },
   "outputs": [],
   "source": [
    "ctree=tree.DecisionTreeClassifier(criterion='gini',splitter='best').fit(x_train,y_train)"
   ]
  },
  {
   "cell_type": "code",
   "execution_count": 31,
   "id": "532f2662",
   "metadata": {
    "execution": {
     "iopub.execute_input": "2023-06-23T04:44:36.763626Z",
     "iopub.status.busy": "2023-06-23T04:44:36.763245Z",
     "iopub.status.idle": "2023-06-23T04:44:36.769414Z",
     "shell.execute_reply": "2023-06-23T04:44:36.768716Z"
    },
    "papermill": {
     "duration": 0.025989,
     "end_time": "2023-06-23T04:44:36.771089",
     "exception": false,
     "start_time": "2023-06-23T04:44:36.745100",
     "status": "completed"
    },
    "tags": []
   },
   "outputs": [],
   "source": [
    "y_treepred=ctree.predict(x_test) "
   ]
  },
  {
   "cell_type": "code",
   "execution_count": 32,
   "id": "fb64c666",
   "metadata": {
    "execution": {
     "iopub.execute_input": "2023-06-23T04:44:36.807456Z",
     "iopub.status.busy": "2023-06-23T04:44:36.807142Z",
     "iopub.status.idle": "2023-06-23T04:44:36.813742Z",
     "shell.execute_reply": "2023-06-23T04:44:36.812977Z"
    },
    "papermill": {
     "duration": 0.026737,
     "end_time": "2023-06-23T04:44:36.815327",
     "exception": false,
     "start_time": "2023-06-23T04:44:36.788590",
     "status": "completed"
    },
    "tags": []
   },
   "outputs": [
    {
     "data": {
      "text/plain": [
       "0.9530469530469531"
      ]
     },
     "execution_count": 32,
     "metadata": {},
     "output_type": "execute_result"
    }
   ],
   "source": [
    "accuracyTree=accuracy_score(y_treepred,y_test)\n",
    "accuracyTree"
   ]
  },
  {
   "cell_type": "markdown",
   "id": "f9ed4f81",
   "metadata": {
    "papermill": {
     "duration": 0.016996,
     "end_time": "2023-06-23T04:44:36.849686",
     "exception": false,
     "start_time": "2023-06-23T04:44:36.832690",
     "status": "completed"
    },
    "tags": []
   },
   "source": [
    "# HyperParameter Tunning using GridSearchCV"
   ]
  },
  {
   "cell_type": "code",
   "execution_count": 33,
   "id": "c0a95c4b",
   "metadata": {
    "execution": {
     "iopub.execute_input": "2023-06-23T04:44:36.885860Z",
     "iopub.status.busy": "2023-06-23T04:44:36.885251Z",
     "iopub.status.idle": "2023-06-23T04:44:36.889149Z",
     "shell.execute_reply": "2023-06-23T04:44:36.888588Z"
    },
    "papermill": {
     "duration": 0.023839,
     "end_time": "2023-06-23T04:44:36.890641",
     "exception": false,
     "start_time": "2023-06-23T04:44:36.866802",
     "status": "completed"
    },
    "tags": []
   },
   "outputs": [],
   "source": [
    "param=[{'criterion': ['gini', 'entropy'],'max_depth': list(range(10, 15)), 'max_features': list(range(0,14))}]"
   ]
  },
  {
   "cell_type": "code",
   "execution_count": 34,
   "id": "942cea6e",
   "metadata": {
    "execution": {
     "iopub.execute_input": "2023-06-23T04:44:36.927160Z",
     "iopub.status.busy": "2023-06-23T04:44:36.926819Z",
     "iopub.status.idle": "2023-06-23T04:44:36.930180Z",
     "shell.execute_reply": "2023-06-23T04:44:36.929621Z"
    },
    "papermill": {
     "duration": 0.023694,
     "end_time": "2023-06-23T04:44:36.931902",
     "exception": false,
     "start_time": "2023-06-23T04:44:36.908208",
     "status": "completed"
    },
    "tags": []
   },
   "outputs": [],
   "source": [
    "from sklearn.model_selection import GridSearchCV"
   ]
  },
  {
   "cell_type": "code",
   "execution_count": 35,
   "id": "aea60295",
   "metadata": {
    "execution": {
     "iopub.execute_input": "2023-06-23T04:44:36.968358Z",
     "iopub.status.busy": "2023-06-23T04:44:36.967363Z",
     "iopub.status.idle": "2023-06-23T04:44:36.972113Z",
     "shell.execute_reply": "2023-06-23T04:44:36.971252Z"
    },
    "papermill": {
     "duration": 0.024705,
     "end_time": "2023-06-23T04:44:36.973884",
     "exception": false,
     "start_time": "2023-06-23T04:44:36.949179",
     "status": "completed"
    },
    "tags": []
   },
   "outputs": [],
   "source": [
    "gridtree=GridSearchCV(ctree,param_grid=param, cv=10,scoring='accuracy')"
   ]
  },
  {
   "cell_type": "code",
   "execution_count": 36,
   "id": "2c922c93",
   "metadata": {
    "execution": {
     "iopub.execute_input": "2023-06-23T04:44:37.010915Z",
     "iopub.status.busy": "2023-06-23T04:44:37.010558Z",
     "iopub.status.idle": "2023-06-23T04:44:45.951801Z",
     "shell.execute_reply": "2023-06-23T04:44:45.951204Z"
    },
    "papermill": {
     "duration": 8.961956,
     "end_time": "2023-06-23T04:44:45.953867",
     "exception": false,
     "start_time": "2023-06-23T04:44:36.991911",
     "status": "completed"
    },
    "tags": []
   },
   "outputs": [
    {
     "name": "stderr",
     "output_type": "stream",
     "text": [
      "/opt/conda/lib/python3.10/site-packages/sklearn/model_selection/_validation.py:378: FitFailedWarning: \n",
      "100 fits failed out of a total of 1400.\n",
      "The score on these train-test partitions for these parameters will be set to nan.\n",
      "If these failures are not expected, you can try to debug them by setting error_score='raise'.\n",
      "\n",
      "Below are more details about the failures:\n",
      "--------------------------------------------------------------------------------\n",
      "100 fits failed with the following error:\n",
      "Traceback (most recent call last):\n",
      "  File \"/opt/conda/lib/python3.10/site-packages/sklearn/model_selection/_validation.py\", line 686, in _fit_and_score\n",
      "    estimator.fit(X_train, y_train, **fit_params)\n",
      "  File \"/opt/conda/lib/python3.10/site-packages/sklearn/tree/_classes.py\", line 889, in fit\n",
      "    super().fit(\n",
      "  File \"/opt/conda/lib/python3.10/site-packages/sklearn/tree/_classes.py\", line 177, in fit\n",
      "    self._validate_params()\n",
      "  File \"/opt/conda/lib/python3.10/site-packages/sklearn/base.py\", line 600, in _validate_params\n",
      "    validate_parameter_constraints(\n",
      "  File \"/opt/conda/lib/python3.10/site-packages/sklearn/utils/_param_validation.py\", line 97, in validate_parameter_constraints\n",
      "    raise InvalidParameterError(\n",
      "sklearn.utils._param_validation.InvalidParameterError: The 'max_features' parameter of DecisionTreeClassifier must be an int in the range [1, inf), a float in the range (0.0, 1.0], a str among {'auto' (deprecated), 'sqrt', 'log2'} or None. Got 0 instead.\n",
      "\n",
      "  warnings.warn(some_fits_failed_message, FitFailedWarning)\n",
      "/opt/conda/lib/python3.10/site-packages/sklearn/model_selection/_search.py:952: UserWarning: One or more of the test scores are non-finite: [    nan 0.961   0.96175 0.962   0.96375 0.96225 0.96275 0.96    0.9605\n",
      " 0.96025 0.95975 0.96    0.9605  0.95975     nan 0.9625  0.9645  0.965\n",
      " 0.96025 0.95975 0.9595  0.9595  0.96025 0.95875 0.95925 0.959   0.96\n",
      " 0.9595      nan 0.96025 0.96425 0.964   0.96125 0.9605  0.9595  0.958\n",
      " 0.95825 0.9585  0.958   0.95775 0.9585  0.958       nan 0.96075 0.96175\n",
      " 0.9645  0.95925 0.96    0.96075 0.95925 0.96025 0.96    0.95925 0.95825\n",
      " 0.9595  0.96025     nan 0.96    0.96075 0.9615  0.96175 0.96075 0.961\n",
      " 0.95925 0.95925 0.959   0.95825 0.95925 0.95825 0.959       nan 0.962\n",
      " 0.96525 0.962   0.96375 0.96375 0.96225 0.964   0.96375 0.96325 0.96275\n",
      " 0.963   0.963   0.96375     nan 0.96325 0.9635  0.9625  0.9635  0.965\n",
      " 0.96    0.962   0.96125 0.96125 0.9625  0.962   0.96275 0.962       nan\n",
      " 0.9625  0.96225 0.96125 0.9615  0.96275 0.96125 0.961   0.96125 0.96175\n",
      " 0.9605  0.961   0.96275 0.96        nan 0.9635  0.963   0.95775 0.9625\n",
      " 0.9625  0.961   0.96175 0.96225 0.961   0.96175 0.96    0.962   0.9605\n",
      "     nan 0.96025 0.961   0.96375 0.9605  0.9605  0.9595  0.96075 0.96125\n",
      " 0.96125 0.96075 0.96175 0.96175 0.9605 ]\n",
      "  warnings.warn(\n"
     ]
    },
    {
     "data": {
      "text/html": [
       "<style>#sk-container-id-1 {color: black;background-color: white;}#sk-container-id-1 pre{padding: 0;}#sk-container-id-1 div.sk-toggleable {background-color: white;}#sk-container-id-1 label.sk-toggleable__label {cursor: pointer;display: block;width: 100%;margin-bottom: 0;padding: 0.3em;box-sizing: border-box;text-align: center;}#sk-container-id-1 label.sk-toggleable__label-arrow:before {content: \"▸\";float: left;margin-right: 0.25em;color: #696969;}#sk-container-id-1 label.sk-toggleable__label-arrow:hover:before {color: black;}#sk-container-id-1 div.sk-estimator:hover label.sk-toggleable__label-arrow:before {color: black;}#sk-container-id-1 div.sk-toggleable__content {max-height: 0;max-width: 0;overflow: hidden;text-align: left;background-color: #f0f8ff;}#sk-container-id-1 div.sk-toggleable__content pre {margin: 0.2em;color: black;border-radius: 0.25em;background-color: #f0f8ff;}#sk-container-id-1 input.sk-toggleable__control:checked~div.sk-toggleable__content {max-height: 200px;max-width: 100%;overflow: auto;}#sk-container-id-1 input.sk-toggleable__control:checked~label.sk-toggleable__label-arrow:before {content: \"▾\";}#sk-container-id-1 div.sk-estimator input.sk-toggleable__control:checked~label.sk-toggleable__label {background-color: #d4ebff;}#sk-container-id-1 div.sk-label input.sk-toggleable__control:checked~label.sk-toggleable__label {background-color: #d4ebff;}#sk-container-id-1 input.sk-hidden--visually {border: 0;clip: rect(1px 1px 1px 1px);clip: rect(1px, 1px, 1px, 1px);height: 1px;margin: -1px;overflow: hidden;padding: 0;position: absolute;width: 1px;}#sk-container-id-1 div.sk-estimator {font-family: monospace;background-color: #f0f8ff;border: 1px dotted black;border-radius: 0.25em;box-sizing: border-box;margin-bottom: 0.5em;}#sk-container-id-1 div.sk-estimator:hover {background-color: #d4ebff;}#sk-container-id-1 div.sk-parallel-item::after {content: \"\";width: 100%;border-bottom: 1px solid gray;flex-grow: 1;}#sk-container-id-1 div.sk-label:hover label.sk-toggleable__label {background-color: #d4ebff;}#sk-container-id-1 div.sk-serial::before {content: \"\";position: absolute;border-left: 1px solid gray;box-sizing: border-box;top: 0;bottom: 0;left: 50%;z-index: 0;}#sk-container-id-1 div.sk-serial {display: flex;flex-direction: column;align-items: center;background-color: white;padding-right: 0.2em;padding-left: 0.2em;position: relative;}#sk-container-id-1 div.sk-item {position: relative;z-index: 1;}#sk-container-id-1 div.sk-parallel {display: flex;align-items: stretch;justify-content: center;background-color: white;position: relative;}#sk-container-id-1 div.sk-item::before, #sk-container-id-1 div.sk-parallel-item::before {content: \"\";position: absolute;border-left: 1px solid gray;box-sizing: border-box;top: 0;bottom: 0;left: 50%;z-index: -1;}#sk-container-id-1 div.sk-parallel-item {display: flex;flex-direction: column;z-index: 1;position: relative;background-color: white;}#sk-container-id-1 div.sk-parallel-item:first-child::after {align-self: flex-end;width: 50%;}#sk-container-id-1 div.sk-parallel-item:last-child::after {align-self: flex-start;width: 50%;}#sk-container-id-1 div.sk-parallel-item:only-child::after {width: 0;}#sk-container-id-1 div.sk-dashed-wrapped {border: 1px dashed gray;margin: 0 0.4em 0.5em 0.4em;box-sizing: border-box;padding-bottom: 0.4em;background-color: white;}#sk-container-id-1 div.sk-label label {font-family: monospace;font-weight: bold;display: inline-block;line-height: 1.2em;}#sk-container-id-1 div.sk-label-container {text-align: center;}#sk-container-id-1 div.sk-container {/* jupyter's `normalize.less` sets `[hidden] { display: none; }` but bootstrap.min.css set `[hidden] { display: none !important; }` so we also need the `!important` here to be able to override the default hidden behavior on the sphinx rendered scikit-learn.org. See: https://github.com/scikit-learn/scikit-learn/issues/21755 */display: inline-block !important;position: relative;}#sk-container-id-1 div.sk-text-repr-fallback {display: none;}</style><div id=\"sk-container-id-1\" class=\"sk-top-container\"><div class=\"sk-text-repr-fallback\"><pre>GridSearchCV(cv=10, estimator=DecisionTreeClassifier(),\n",
       "             param_grid=[{&#x27;criterion&#x27;: [&#x27;gini&#x27;, &#x27;entropy&#x27;],\n",
       "                          &#x27;max_depth&#x27;: [10, 11, 12, 13, 14],\n",
       "                          &#x27;max_features&#x27;: [0, 1, 2, 3, 4, 5, 6, 7, 8, 9, 10, 11,\n",
       "                                           12, 13]}],\n",
       "             scoring=&#x27;accuracy&#x27;)</pre><b>In a Jupyter environment, please rerun this cell to show the HTML representation or trust the notebook. <br />On GitHub, the HTML representation is unable to render, please try loading this page with nbviewer.org.</b></div><div class=\"sk-container\" hidden><div class=\"sk-item sk-dashed-wrapped\"><div class=\"sk-label-container\"><div class=\"sk-label sk-toggleable\"><input class=\"sk-toggleable__control sk-hidden--visually\" id=\"sk-estimator-id-1\" type=\"checkbox\" ><label for=\"sk-estimator-id-1\" class=\"sk-toggleable__label sk-toggleable__label-arrow\">GridSearchCV</label><div class=\"sk-toggleable__content\"><pre>GridSearchCV(cv=10, estimator=DecisionTreeClassifier(),\n",
       "             param_grid=[{&#x27;criterion&#x27;: [&#x27;gini&#x27;, &#x27;entropy&#x27;],\n",
       "                          &#x27;max_depth&#x27;: [10, 11, 12, 13, 14],\n",
       "                          &#x27;max_features&#x27;: [0, 1, 2, 3, 4, 5, 6, 7, 8, 9, 10, 11,\n",
       "                                           12, 13]}],\n",
       "             scoring=&#x27;accuracy&#x27;)</pre></div></div></div><div class=\"sk-parallel\"><div class=\"sk-parallel-item\"><div class=\"sk-item\"><div class=\"sk-label-container\"><div class=\"sk-label sk-toggleable\"><input class=\"sk-toggleable__control sk-hidden--visually\" id=\"sk-estimator-id-2\" type=\"checkbox\" ><label for=\"sk-estimator-id-2\" class=\"sk-toggleable__label sk-toggleable__label-arrow\">estimator: DecisionTreeClassifier</label><div class=\"sk-toggleable__content\"><pre>DecisionTreeClassifier()</pre></div></div></div><div class=\"sk-serial\"><div class=\"sk-item\"><div class=\"sk-estimator sk-toggleable\"><input class=\"sk-toggleable__control sk-hidden--visually\" id=\"sk-estimator-id-3\" type=\"checkbox\" ><label for=\"sk-estimator-id-3\" class=\"sk-toggleable__label sk-toggleable__label-arrow\">DecisionTreeClassifier</label><div class=\"sk-toggleable__content\"><pre>DecisionTreeClassifier()</pre></div></div></div></div></div></div></div></div></div></div>"
      ],
      "text/plain": [
       "GridSearchCV(cv=10, estimator=DecisionTreeClassifier(),\n",
       "             param_grid=[{'criterion': ['gini', 'entropy'],\n",
       "                          'max_depth': [10, 11, 12, 13, 14],\n",
       "                          'max_features': [0, 1, 2, 3, 4, 5, 6, 7, 8, 9, 10, 11,\n",
       "                                           12, 13]}],\n",
       "             scoring='accuracy')"
      ]
     },
     "execution_count": 36,
     "metadata": {},
     "output_type": "execute_result"
    }
   ],
   "source": [
    "gridtree.fit(x_train,y_train)"
   ]
  },
  {
   "cell_type": "code",
   "execution_count": 37,
   "id": "8f0c6b6f",
   "metadata": {
    "execution": {
     "iopub.execute_input": "2023-06-23T04:44:45.991956Z",
     "iopub.status.busy": "2023-06-23T04:44:45.991048Z",
     "iopub.status.idle": "2023-06-23T04:44:45.996755Z",
     "shell.execute_reply": "2023-06-23T04:44:45.996155Z"
    },
    "papermill": {
     "duration": 0.026901,
     "end_time": "2023-06-23T04:44:45.998875",
     "exception": false,
     "start_time": "2023-06-23T04:44:45.971974",
     "status": "completed"
    },
    "tags": []
   },
   "outputs": [
    {
     "data": {
      "text/plain": [
       "{'criterion': 'entropy', 'max_depth': 10, 'max_features': 2}"
      ]
     },
     "execution_count": 37,
     "metadata": {},
     "output_type": "execute_result"
    }
   ],
   "source": [
    "gridtree.best_params_"
   ]
  },
  {
   "cell_type": "code",
   "execution_count": 38,
   "id": "8a4250cd",
   "metadata": {
    "execution": {
     "iopub.execute_input": "2023-06-23T04:44:46.038069Z",
     "iopub.status.busy": "2023-06-23T04:44:46.037535Z",
     "iopub.status.idle": "2023-06-23T04:44:46.042954Z",
     "shell.execute_reply": "2023-06-23T04:44:46.041146Z"
    },
    "papermill": {
     "duration": 0.027007,
     "end_time": "2023-06-23T04:44:46.044755",
     "exception": false,
     "start_time": "2023-06-23T04:44:46.017748",
     "status": "completed"
    },
    "tags": []
   },
   "outputs": [
    {
     "name": "stdout",
     "output_type": "stream",
     "text": [
      "0.9652500000000002\n"
     ]
    }
   ],
   "source": [
    "gridtreeacc=gridtree.best_score_\n",
    "print(gridtree.best_score_)"
   ]
  },
  {
   "cell_type": "markdown",
   "id": "c8afb2ec",
   "metadata": {
    "papermill": {
     "duration": 0.019422,
     "end_time": "2023-06-23T04:44:46.082774",
     "exception": false,
     "start_time": "2023-06-23T04:44:46.063352",
     "status": "completed"
    },
    "tags": []
   },
   "source": [
    "# Random Forest Application"
   ]
  },
  {
   "cell_type": "code",
   "execution_count": 39,
   "id": "4c874d16",
   "metadata": {
    "execution": {
     "iopub.execute_input": "2023-06-23T04:44:46.120376Z",
     "iopub.status.busy": "2023-06-23T04:44:46.120027Z",
     "iopub.status.idle": "2023-06-23T04:44:46.227955Z",
     "shell.execute_reply": "2023-06-23T04:44:46.226943Z"
    },
    "papermill": {
     "duration": 0.129634,
     "end_time": "2023-06-23T04:44:46.230591",
     "exception": false,
     "start_time": "2023-06-23T04:44:46.100957",
     "status": "completed"
    },
    "tags": []
   },
   "outputs": [],
   "source": [
    "from sklearn.ensemble import RandomForestClassifier"
   ]
  },
  {
   "cell_type": "code",
   "execution_count": 40,
   "id": "f81a0205",
   "metadata": {
    "execution": {
     "iopub.execute_input": "2023-06-23T04:44:46.269511Z",
     "iopub.status.busy": "2023-06-23T04:44:46.268961Z",
     "iopub.status.idle": "2023-06-23T04:44:46.543443Z",
     "shell.execute_reply": "2023-06-23T04:44:46.542738Z"
    },
    "papermill": {
     "duration": 0.296525,
     "end_time": "2023-06-23T04:44:46.545668",
     "exception": false,
     "start_time": "2023-06-23T04:44:46.249143",
     "status": "completed"
    },
    "tags": []
   },
   "outputs": [],
   "source": [
    "rfc=RandomForestClassifier().fit(x_train,y_train)"
   ]
  },
  {
   "cell_type": "code",
   "execution_count": 41,
   "id": "852ad0bd",
   "metadata": {
    "execution": {
     "iopub.execute_input": "2023-06-23T04:44:46.584958Z",
     "iopub.status.busy": "2023-06-23T04:44:46.583864Z",
     "iopub.status.idle": "2023-06-23T04:44:46.610641Z",
     "shell.execute_reply": "2023-06-23T04:44:46.609462Z"
    },
    "papermill": {
     "duration": 0.048468,
     "end_time": "2023-06-23T04:44:46.612798",
     "exception": false,
     "start_time": "2023-06-23T04:44:46.564330",
     "status": "completed"
    },
    "tags": []
   },
   "outputs": [
    {
     "data": {
      "text/plain": [
       "array([1, 1, 1, ..., 1, 0, 1])"
      ]
     },
     "execution_count": 41,
     "metadata": {},
     "output_type": "execute_result"
    }
   ],
   "source": [
    "yrfc=rfc.predict(x_test)\n",
    "yrfc"
   ]
  },
  {
   "cell_type": "code",
   "execution_count": 42,
   "id": "b97fdbd4",
   "metadata": {
    "execution": {
     "iopub.execute_input": "2023-06-23T04:44:46.650947Z",
     "iopub.status.busy": "2023-06-23T04:44:46.650644Z",
     "iopub.status.idle": "2023-06-23T04:44:46.658458Z",
     "shell.execute_reply": "2023-06-23T04:44:46.657422Z"
    },
    "papermill": {
     "duration": 0.029511,
     "end_time": "2023-06-23T04:44:46.660853",
     "exception": false,
     "start_time": "2023-06-23T04:44:46.631342",
     "status": "completed"
    },
    "tags": []
   },
   "outputs": [
    {
     "data": {
      "text/plain": [
       "0.97002997002997"
      ]
     },
     "execution_count": 42,
     "metadata": {},
     "output_type": "execute_result"
    }
   ],
   "source": [
    "rfcacc=accuracy_score(yrfc,y_test)\n",
    "rfcacc"
   ]
  },
  {
   "cell_type": "markdown",
   "id": "9b65b2fc",
   "metadata": {
    "papermill": {
     "duration": 0.018066,
     "end_time": "2023-06-23T04:44:46.698036",
     "exception": false,
     "start_time": "2023-06-23T04:44:46.679970",
     "status": "completed"
    },
    "tags": []
   },
   "source": [
    "# Hyper Parameter Tunning for RFC using GridSearchCV"
   ]
  },
  {
   "cell_type": "code",
   "execution_count": 43,
   "id": "8a248449",
   "metadata": {
    "execution": {
     "iopub.execute_input": "2023-06-23T04:44:46.736340Z",
     "iopub.status.busy": "2023-06-23T04:44:46.735993Z",
     "iopub.status.idle": "2023-06-23T04:44:46.741363Z",
     "shell.execute_reply": "2023-06-23T04:44:46.739746Z"
    },
    "papermill": {
     "duration": 0.026862,
     "end_time": "2023-06-23T04:44:46.743445",
     "exception": false,
     "start_time": "2023-06-23T04:44:46.716583",
     "status": "completed"
    },
    "tags": []
   },
   "outputs": [],
   "source": [
    "forst_params={'n_estimators': [50, 100],'max_depth': [5, 10],'min_samples_split': [2, 5],\n",
    "                'max_features': [3, 5],'criterion': ['gini', 'entropy']}"
   ]
  },
  {
   "cell_type": "code",
   "execution_count": 44,
   "id": "86269bf9",
   "metadata": {
    "execution": {
     "iopub.execute_input": "2023-06-23T04:44:46.783679Z",
     "iopub.status.busy": "2023-06-23T04:44:46.782814Z",
     "iopub.status.idle": "2023-06-23T04:44:46.787904Z",
     "shell.execute_reply": "2023-06-23T04:44:46.786667Z"
    },
    "papermill": {
     "duration": 0.027315,
     "end_time": "2023-06-23T04:44:46.790092",
     "exception": false,
     "start_time": "2023-06-23T04:44:46.762777",
     "status": "completed"
    },
    "tags": []
   },
   "outputs": [],
   "source": [
    "from sklearn.model_selection import GridSearchCV\n",
    "gridrfc=GridSearchCV(rfc,forst_params,cv=10,scoring='accuracy')"
   ]
  },
  {
   "cell_type": "code",
   "execution_count": 45,
   "id": "bf440a25",
   "metadata": {
    "execution": {
     "iopub.execute_input": "2023-06-23T04:44:46.828835Z",
     "iopub.status.busy": "2023-06-23T04:44:46.828462Z",
     "iopub.status.idle": "2023-06-23T04:45:55.996352Z",
     "shell.execute_reply": "2023-06-23T04:45:55.995307Z"
    },
    "papermill": {
     "duration": 69.189915,
     "end_time": "2023-06-23T04:45:55.998745",
     "exception": false,
     "start_time": "2023-06-23T04:44:46.808830",
     "status": "completed"
    },
    "tags": []
   },
   "outputs": [],
   "source": [
    "gridfit=gridrfc.fit(x_train,y_train)"
   ]
  },
  {
   "cell_type": "code",
   "execution_count": 46,
   "id": "80e44ebd",
   "metadata": {
    "execution": {
     "iopub.execute_input": "2023-06-23T04:45:56.038674Z",
     "iopub.status.busy": "2023-06-23T04:45:56.038293Z",
     "iopub.status.idle": "2023-06-23T04:45:56.042960Z",
     "shell.execute_reply": "2023-06-23T04:45:56.041831Z"
    },
    "papermill": {
     "duration": 0.027512,
     "end_time": "2023-06-23T04:45:56.045331",
     "exception": false,
     "start_time": "2023-06-23T04:45:56.017819",
     "status": "completed"
    },
    "tags": []
   },
   "outputs": [],
   "source": [
    "gridrfcacc=gridrfc.best_score_"
   ]
  },
  {
   "cell_type": "code",
   "execution_count": 47,
   "id": "d88e0da9",
   "metadata": {
    "execution": {
     "iopub.execute_input": "2023-06-23T04:45:56.084704Z",
     "iopub.status.busy": "2023-06-23T04:45:56.084392Z",
     "iopub.status.idle": "2023-06-23T04:45:56.090986Z",
     "shell.execute_reply": "2023-06-23T04:45:56.090052Z"
    },
    "papermill": {
     "duration": 0.029139,
     "end_time": "2023-06-23T04:45:56.093388",
     "exception": false,
     "start_time": "2023-06-23T04:45:56.064249",
     "status": "completed"
    },
    "tags": []
   },
   "outputs": [
    {
     "data": {
      "text/plain": [
       "{'criterion': 'entropy',\n",
       " 'max_depth': 5,\n",
       " 'max_features': 3,\n",
       " 'min_samples_split': 2,\n",
       " 'n_estimators': 50}"
      ]
     },
     "execution_count": 47,
     "metadata": {},
     "output_type": "execute_result"
    }
   ],
   "source": [
    "gridrfc.best_params_"
   ]
  },
  {
   "cell_type": "code",
   "execution_count": 48,
   "id": "8f204ea9",
   "metadata": {
    "execution": {
     "iopub.execute_input": "2023-06-23T04:45:56.134908Z",
     "iopub.status.busy": "2023-06-23T04:45:56.134561Z",
     "iopub.status.idle": "2023-06-23T04:45:56.142919Z",
     "shell.execute_reply": "2023-06-23T04:45:56.141928Z"
    },
    "papermill": {
     "duration": 0.03158,
     "end_time": "2023-06-23T04:45:56.144528",
     "exception": false,
     "start_time": "2023-06-23T04:45:56.112948",
     "status": "completed"
    },
    "tags": []
   },
   "outputs": [
    {
     "data": {
      "text/html": [
       "<style>#sk-container-id-2 {color: black;background-color: white;}#sk-container-id-2 pre{padding: 0;}#sk-container-id-2 div.sk-toggleable {background-color: white;}#sk-container-id-2 label.sk-toggleable__label {cursor: pointer;display: block;width: 100%;margin-bottom: 0;padding: 0.3em;box-sizing: border-box;text-align: center;}#sk-container-id-2 label.sk-toggleable__label-arrow:before {content: \"▸\";float: left;margin-right: 0.25em;color: #696969;}#sk-container-id-2 label.sk-toggleable__label-arrow:hover:before {color: black;}#sk-container-id-2 div.sk-estimator:hover label.sk-toggleable__label-arrow:before {color: black;}#sk-container-id-2 div.sk-toggleable__content {max-height: 0;max-width: 0;overflow: hidden;text-align: left;background-color: #f0f8ff;}#sk-container-id-2 div.sk-toggleable__content pre {margin: 0.2em;color: black;border-radius: 0.25em;background-color: #f0f8ff;}#sk-container-id-2 input.sk-toggleable__control:checked~div.sk-toggleable__content {max-height: 200px;max-width: 100%;overflow: auto;}#sk-container-id-2 input.sk-toggleable__control:checked~label.sk-toggleable__label-arrow:before {content: \"▾\";}#sk-container-id-2 div.sk-estimator input.sk-toggleable__control:checked~label.sk-toggleable__label {background-color: #d4ebff;}#sk-container-id-2 div.sk-label input.sk-toggleable__control:checked~label.sk-toggleable__label {background-color: #d4ebff;}#sk-container-id-2 input.sk-hidden--visually {border: 0;clip: rect(1px 1px 1px 1px);clip: rect(1px, 1px, 1px, 1px);height: 1px;margin: -1px;overflow: hidden;padding: 0;position: absolute;width: 1px;}#sk-container-id-2 div.sk-estimator {font-family: monospace;background-color: #f0f8ff;border: 1px dotted black;border-radius: 0.25em;box-sizing: border-box;margin-bottom: 0.5em;}#sk-container-id-2 div.sk-estimator:hover {background-color: #d4ebff;}#sk-container-id-2 div.sk-parallel-item::after {content: \"\";width: 100%;border-bottom: 1px solid gray;flex-grow: 1;}#sk-container-id-2 div.sk-label:hover label.sk-toggleable__label {background-color: #d4ebff;}#sk-container-id-2 div.sk-serial::before {content: \"\";position: absolute;border-left: 1px solid gray;box-sizing: border-box;top: 0;bottom: 0;left: 50%;z-index: 0;}#sk-container-id-2 div.sk-serial {display: flex;flex-direction: column;align-items: center;background-color: white;padding-right: 0.2em;padding-left: 0.2em;position: relative;}#sk-container-id-2 div.sk-item {position: relative;z-index: 1;}#sk-container-id-2 div.sk-parallel {display: flex;align-items: stretch;justify-content: center;background-color: white;position: relative;}#sk-container-id-2 div.sk-item::before, #sk-container-id-2 div.sk-parallel-item::before {content: \"\";position: absolute;border-left: 1px solid gray;box-sizing: border-box;top: 0;bottom: 0;left: 50%;z-index: -1;}#sk-container-id-2 div.sk-parallel-item {display: flex;flex-direction: column;z-index: 1;position: relative;background-color: white;}#sk-container-id-2 div.sk-parallel-item:first-child::after {align-self: flex-end;width: 50%;}#sk-container-id-2 div.sk-parallel-item:last-child::after {align-self: flex-start;width: 50%;}#sk-container-id-2 div.sk-parallel-item:only-child::after {width: 0;}#sk-container-id-2 div.sk-dashed-wrapped {border: 1px dashed gray;margin: 0 0.4em 0.5em 0.4em;box-sizing: border-box;padding-bottom: 0.4em;background-color: white;}#sk-container-id-2 div.sk-label label {font-family: monospace;font-weight: bold;display: inline-block;line-height: 1.2em;}#sk-container-id-2 div.sk-label-container {text-align: center;}#sk-container-id-2 div.sk-container {/* jupyter's `normalize.less` sets `[hidden] { display: none; }` but bootstrap.min.css set `[hidden] { display: none !important; }` so we also need the `!important` here to be able to override the default hidden behavior on the sphinx rendered scikit-learn.org. See: https://github.com/scikit-learn/scikit-learn/issues/21755 */display: inline-block !important;position: relative;}#sk-container-id-2 div.sk-text-repr-fallback {display: none;}</style><div id=\"sk-container-id-2\" class=\"sk-top-container\"><div class=\"sk-text-repr-fallback\"><pre>RandomForestClassifier(criterion=&#x27;entropy&#x27;, max_depth=5, max_features=3,\n",
       "                       n_estimators=50)</pre><b>In a Jupyter environment, please rerun this cell to show the HTML representation or trust the notebook. <br />On GitHub, the HTML representation is unable to render, please try loading this page with nbviewer.org.</b></div><div class=\"sk-container\" hidden><div class=\"sk-item\"><div class=\"sk-estimator sk-toggleable\"><input class=\"sk-toggleable__control sk-hidden--visually\" id=\"sk-estimator-id-4\" type=\"checkbox\" checked><label for=\"sk-estimator-id-4\" class=\"sk-toggleable__label sk-toggleable__label-arrow\">RandomForestClassifier</label><div class=\"sk-toggleable__content\"><pre>RandomForestClassifier(criterion=&#x27;entropy&#x27;, max_depth=5, max_features=3,\n",
       "                       n_estimators=50)</pre></div></div></div></div></div>"
      ],
      "text/plain": [
       "RandomForestClassifier(criterion='entropy', max_depth=5, max_features=3,\n",
       "                       n_estimators=50)"
      ]
     },
     "execution_count": 48,
     "metadata": {},
     "output_type": "execute_result"
    }
   ],
   "source": [
    "gridrfc.best_estimator_"
   ]
  },
  {
   "cell_type": "markdown",
   "id": "64e811e0",
   "metadata": {
    "papermill": {
     "duration": 0.019871,
     "end_time": "2023-06-23T04:45:56.184238",
     "exception": false,
     "start_time": "2023-06-23T04:45:56.164367",
     "status": "completed"
    },
    "tags": []
   },
   "source": [
    "# Training using KNN "
   ]
  },
  {
   "cell_type": "code",
   "execution_count": 49,
   "id": "27df7d94",
   "metadata": {
    "execution": {
     "iopub.execute_input": "2023-06-23T04:45:56.225788Z",
     "iopub.status.busy": "2023-06-23T04:45:56.224754Z",
     "iopub.status.idle": "2023-06-23T04:45:56.229232Z",
     "shell.execute_reply": "2023-06-23T04:45:56.228425Z"
    },
    "papermill": {
     "duration": 0.026553,
     "end_time": "2023-06-23T04:45:56.231128",
     "exception": false,
     "start_time": "2023-06-23T04:45:56.204575",
     "status": "completed"
    },
    "tags": []
   },
   "outputs": [],
   "source": [
    "from sklearn.neighbors import KNeighborsClassifier"
   ]
  },
  {
   "cell_type": "code",
   "execution_count": 50,
   "id": "b1929972",
   "metadata": {
    "execution": {
     "iopub.execute_input": "2023-06-23T04:45:56.273125Z",
     "iopub.status.busy": "2023-06-23T04:45:56.272743Z",
     "iopub.status.idle": "2023-06-23T04:45:56.283017Z",
     "shell.execute_reply": "2023-06-23T04:45:56.282082Z"
    },
    "papermill": {
     "duration": 0.032982,
     "end_time": "2023-06-23T04:45:56.284828",
     "exception": false,
     "start_time": "2023-06-23T04:45:56.251846",
     "status": "completed"
    },
    "tags": []
   },
   "outputs": [],
   "source": [
    "knn=KNeighborsClassifier(n_neighbors=10).fit(x_train,y_train)"
   ]
  },
  {
   "cell_type": "code",
   "execution_count": 51,
   "id": "15c89fb5",
   "metadata": {
    "execution": {
     "iopub.execute_input": "2023-06-23T04:45:56.325928Z",
     "iopub.status.busy": "2023-06-23T04:45:56.325531Z",
     "iopub.status.idle": "2023-06-23T04:45:56.362286Z",
     "shell.execute_reply": "2023-06-23T04:45:56.361318Z"
    },
    "papermill": {
     "duration": 0.060237,
     "end_time": "2023-06-23T04:45:56.364607",
     "exception": false,
     "start_time": "2023-06-23T04:45:56.304370",
     "status": "completed"
    },
    "tags": []
   },
   "outputs": [],
   "source": [
    "predictknn=knn.predict(x_test)"
   ]
  },
  {
   "cell_type": "code",
   "execution_count": 52,
   "id": "33faa9d1",
   "metadata": {
    "execution": {
     "iopub.execute_input": "2023-06-23T04:45:56.403861Z",
     "iopub.status.busy": "2023-06-23T04:45:56.403514Z",
     "iopub.status.idle": "2023-06-23T04:45:56.411332Z",
     "shell.execute_reply": "2023-06-23T04:45:56.410330Z"
    },
    "papermill": {
     "duration": 0.029416,
     "end_time": "2023-06-23T04:45:56.413088",
     "exception": false,
     "start_time": "2023-06-23T04:45:56.383672",
     "status": "completed"
    },
    "tags": []
   },
   "outputs": [
    {
     "data": {
      "text/plain": [
       "0.97002997002997"
      ]
     },
     "execution_count": 52,
     "metadata": {},
     "output_type": "execute_result"
    }
   ],
   "source": [
    "knnaccuracy=accuracy_score(predictknn,y_test)\n",
    "knnaccuracy"
   ]
  },
  {
   "cell_type": "markdown",
   "id": "07135880",
   "metadata": {
    "papermill": {
     "duration": 0.019013,
     "end_time": "2023-06-23T04:45:56.451752",
     "exception": false,
     "start_time": "2023-06-23T04:45:56.432739",
     "status": "completed"
    },
    "tags": []
   },
   "source": [
    "# Hyper Parameters Using GridSearchCV For KNN"
   ]
  },
  {
   "cell_type": "code",
   "execution_count": 53,
   "id": "68dcbaee",
   "metadata": {
    "execution": {
     "iopub.execute_input": "2023-06-23T04:45:56.491349Z",
     "iopub.status.busy": "2023-06-23T04:45:56.490988Z",
     "iopub.status.idle": "2023-06-23T04:45:56.496105Z",
     "shell.execute_reply": "2023-06-23T04:45:56.494924Z"
    },
    "papermill": {
     "duration": 0.027106,
     "end_time": "2023-06-23T04:45:56.498009",
     "exception": false,
     "start_time": "2023-06-23T04:45:56.470903",
     "status": "completed"
    },
    "tags": []
   },
   "outputs": [],
   "source": [
    "from sklearn.model_selection import GridSearchCV"
   ]
  },
  {
   "cell_type": "code",
   "execution_count": 54,
   "id": "dd5070b0",
   "metadata": {
    "execution": {
     "iopub.execute_input": "2023-06-23T04:45:56.537983Z",
     "iopub.status.busy": "2023-06-23T04:45:56.537622Z",
     "iopub.status.idle": "2023-06-23T04:45:56.543081Z",
     "shell.execute_reply": "2023-06-23T04:45:56.542101Z"
    },
    "papermill": {
     "duration": 0.028332,
     "end_time": "2023-06-23T04:45:56.545530",
     "exception": false,
     "start_time": "2023-06-23T04:45:56.517198",
     "status": "completed"
    },
    "tags": []
   },
   "outputs": [],
   "source": [
    "parameters={\n",
    "    'n_neighbors':[3,15],\n",
    "    'weights':['uniform','distance'],\n",
    "    'algorithm':['auto','ball_tree','kd_tree', 'brute'],\n",
    "    'leaf_size':[30,45],\n",
    "    'p':[1,2],\n",
    "}"
   ]
  },
  {
   "cell_type": "code",
   "execution_count": 55,
   "id": "52602f53",
   "metadata": {
    "execution": {
     "iopub.execute_input": "2023-06-23T04:45:56.586735Z",
     "iopub.status.busy": "2023-06-23T04:45:56.586381Z",
     "iopub.status.idle": "2023-06-23T04:45:56.591387Z",
     "shell.execute_reply": "2023-06-23T04:45:56.590327Z"
    },
    "papermill": {
     "duration": 0.027772,
     "end_time": "2023-06-23T04:45:56.593313",
     "exception": false,
     "start_time": "2023-06-23T04:45:56.565541",
     "status": "completed"
    },
    "tags": []
   },
   "outputs": [],
   "source": [
    "gridknn=GridSearchCV(knn,parameters,cv=10,scoring='accuracy')"
   ]
  },
  {
   "cell_type": "code",
   "execution_count": 56,
   "id": "881849de",
   "metadata": {
    "execution": {
     "iopub.execute_input": "2023-06-23T04:45:56.634563Z",
     "iopub.status.busy": "2023-06-23T04:45:56.634187Z",
     "iopub.status.idle": "2023-06-23T04:46:07.236956Z",
     "shell.execute_reply": "2023-06-23T04:46:07.235716Z"
    },
    "papermill": {
     "duration": 10.625973,
     "end_time": "2023-06-23T04:46:07.239388",
     "exception": false,
     "start_time": "2023-06-23T04:45:56.613415",
     "status": "completed"
    },
    "tags": []
   },
   "outputs": [
    {
     "data": {
      "text/html": [
       "<style>#sk-container-id-3 {color: black;background-color: white;}#sk-container-id-3 pre{padding: 0;}#sk-container-id-3 div.sk-toggleable {background-color: white;}#sk-container-id-3 label.sk-toggleable__label {cursor: pointer;display: block;width: 100%;margin-bottom: 0;padding: 0.3em;box-sizing: border-box;text-align: center;}#sk-container-id-3 label.sk-toggleable__label-arrow:before {content: \"▸\";float: left;margin-right: 0.25em;color: #696969;}#sk-container-id-3 label.sk-toggleable__label-arrow:hover:before {color: black;}#sk-container-id-3 div.sk-estimator:hover label.sk-toggleable__label-arrow:before {color: black;}#sk-container-id-3 div.sk-toggleable__content {max-height: 0;max-width: 0;overflow: hidden;text-align: left;background-color: #f0f8ff;}#sk-container-id-3 div.sk-toggleable__content pre {margin: 0.2em;color: black;border-radius: 0.25em;background-color: #f0f8ff;}#sk-container-id-3 input.sk-toggleable__control:checked~div.sk-toggleable__content {max-height: 200px;max-width: 100%;overflow: auto;}#sk-container-id-3 input.sk-toggleable__control:checked~label.sk-toggleable__label-arrow:before {content: \"▾\";}#sk-container-id-3 div.sk-estimator input.sk-toggleable__control:checked~label.sk-toggleable__label {background-color: #d4ebff;}#sk-container-id-3 div.sk-label input.sk-toggleable__control:checked~label.sk-toggleable__label {background-color: #d4ebff;}#sk-container-id-3 input.sk-hidden--visually {border: 0;clip: rect(1px 1px 1px 1px);clip: rect(1px, 1px, 1px, 1px);height: 1px;margin: -1px;overflow: hidden;padding: 0;position: absolute;width: 1px;}#sk-container-id-3 div.sk-estimator {font-family: monospace;background-color: #f0f8ff;border: 1px dotted black;border-radius: 0.25em;box-sizing: border-box;margin-bottom: 0.5em;}#sk-container-id-3 div.sk-estimator:hover {background-color: #d4ebff;}#sk-container-id-3 div.sk-parallel-item::after {content: \"\";width: 100%;border-bottom: 1px solid gray;flex-grow: 1;}#sk-container-id-3 div.sk-label:hover label.sk-toggleable__label {background-color: #d4ebff;}#sk-container-id-3 div.sk-serial::before {content: \"\";position: absolute;border-left: 1px solid gray;box-sizing: border-box;top: 0;bottom: 0;left: 50%;z-index: 0;}#sk-container-id-3 div.sk-serial {display: flex;flex-direction: column;align-items: center;background-color: white;padding-right: 0.2em;padding-left: 0.2em;position: relative;}#sk-container-id-3 div.sk-item {position: relative;z-index: 1;}#sk-container-id-3 div.sk-parallel {display: flex;align-items: stretch;justify-content: center;background-color: white;position: relative;}#sk-container-id-3 div.sk-item::before, #sk-container-id-3 div.sk-parallel-item::before {content: \"\";position: absolute;border-left: 1px solid gray;box-sizing: border-box;top: 0;bottom: 0;left: 50%;z-index: -1;}#sk-container-id-3 div.sk-parallel-item {display: flex;flex-direction: column;z-index: 1;position: relative;background-color: white;}#sk-container-id-3 div.sk-parallel-item:first-child::after {align-self: flex-end;width: 50%;}#sk-container-id-3 div.sk-parallel-item:last-child::after {align-self: flex-start;width: 50%;}#sk-container-id-3 div.sk-parallel-item:only-child::after {width: 0;}#sk-container-id-3 div.sk-dashed-wrapped {border: 1px dashed gray;margin: 0 0.4em 0.5em 0.4em;box-sizing: border-box;padding-bottom: 0.4em;background-color: white;}#sk-container-id-3 div.sk-label label {font-family: monospace;font-weight: bold;display: inline-block;line-height: 1.2em;}#sk-container-id-3 div.sk-label-container {text-align: center;}#sk-container-id-3 div.sk-container {/* jupyter's `normalize.less` sets `[hidden] { display: none; }` but bootstrap.min.css set `[hidden] { display: none !important; }` so we also need the `!important` here to be able to override the default hidden behavior on the sphinx rendered scikit-learn.org. See: https://github.com/scikit-learn/scikit-learn/issues/21755 */display: inline-block !important;position: relative;}#sk-container-id-3 div.sk-text-repr-fallback {display: none;}</style><div id=\"sk-container-id-3\" class=\"sk-top-container\"><div class=\"sk-text-repr-fallback\"><pre>GridSearchCV(cv=10, estimator=KNeighborsClassifier(n_neighbors=10),\n",
       "             param_grid={&#x27;algorithm&#x27;: [&#x27;auto&#x27;, &#x27;ball_tree&#x27;, &#x27;kd_tree&#x27;, &#x27;brute&#x27;],\n",
       "                         &#x27;leaf_size&#x27;: [30, 45], &#x27;n_neighbors&#x27;: [3, 15],\n",
       "                         &#x27;p&#x27;: [1, 2], &#x27;weights&#x27;: [&#x27;uniform&#x27;, &#x27;distance&#x27;]},\n",
       "             scoring=&#x27;accuracy&#x27;)</pre><b>In a Jupyter environment, please rerun this cell to show the HTML representation or trust the notebook. <br />On GitHub, the HTML representation is unable to render, please try loading this page with nbviewer.org.</b></div><div class=\"sk-container\" hidden><div class=\"sk-item sk-dashed-wrapped\"><div class=\"sk-label-container\"><div class=\"sk-label sk-toggleable\"><input class=\"sk-toggleable__control sk-hidden--visually\" id=\"sk-estimator-id-5\" type=\"checkbox\" ><label for=\"sk-estimator-id-5\" class=\"sk-toggleable__label sk-toggleable__label-arrow\">GridSearchCV</label><div class=\"sk-toggleable__content\"><pre>GridSearchCV(cv=10, estimator=KNeighborsClassifier(n_neighbors=10),\n",
       "             param_grid={&#x27;algorithm&#x27;: [&#x27;auto&#x27;, &#x27;ball_tree&#x27;, &#x27;kd_tree&#x27;, &#x27;brute&#x27;],\n",
       "                         &#x27;leaf_size&#x27;: [30, 45], &#x27;n_neighbors&#x27;: [3, 15],\n",
       "                         &#x27;p&#x27;: [1, 2], &#x27;weights&#x27;: [&#x27;uniform&#x27;, &#x27;distance&#x27;]},\n",
       "             scoring=&#x27;accuracy&#x27;)</pre></div></div></div><div class=\"sk-parallel\"><div class=\"sk-parallel-item\"><div class=\"sk-item\"><div class=\"sk-label-container\"><div class=\"sk-label sk-toggleable\"><input class=\"sk-toggleable__control sk-hidden--visually\" id=\"sk-estimator-id-6\" type=\"checkbox\" ><label for=\"sk-estimator-id-6\" class=\"sk-toggleable__label sk-toggleable__label-arrow\">estimator: KNeighborsClassifier</label><div class=\"sk-toggleable__content\"><pre>KNeighborsClassifier(n_neighbors=10)</pre></div></div></div><div class=\"sk-serial\"><div class=\"sk-item\"><div class=\"sk-estimator sk-toggleable\"><input class=\"sk-toggleable__control sk-hidden--visually\" id=\"sk-estimator-id-7\" type=\"checkbox\" ><label for=\"sk-estimator-id-7\" class=\"sk-toggleable__label sk-toggleable__label-arrow\">KNeighborsClassifier</label><div class=\"sk-toggleable__content\"><pre>KNeighborsClassifier(n_neighbors=10)</pre></div></div></div></div></div></div></div></div></div></div>"
      ],
      "text/plain": [
       "GridSearchCV(cv=10, estimator=KNeighborsClassifier(n_neighbors=10),\n",
       "             param_grid={'algorithm': ['auto', 'ball_tree', 'kd_tree', 'brute'],\n",
       "                         'leaf_size': [30, 45], 'n_neighbors': [3, 15],\n",
       "                         'p': [1, 2], 'weights': ['uniform', 'distance']},\n",
       "             scoring='accuracy')"
      ]
     },
     "execution_count": 56,
     "metadata": {},
     "output_type": "execute_result"
    }
   ],
   "source": [
    "gridknn.fit(x_train,y_train)"
   ]
  },
  {
   "cell_type": "code",
   "execution_count": 57,
   "id": "b3528a30",
   "metadata": {
    "execution": {
     "iopub.execute_input": "2023-06-23T04:46:07.280870Z",
     "iopub.status.busy": "2023-06-23T04:46:07.279558Z",
     "iopub.status.idle": "2023-06-23T04:46:07.288319Z",
     "shell.execute_reply": "2023-06-23T04:46:07.287195Z"
    },
    "papermill": {
     "duration": 0.031447,
     "end_time": "2023-06-23T04:46:07.290190",
     "exception": false,
     "start_time": "2023-06-23T04:46:07.258743",
     "status": "completed"
    },
    "tags": []
   },
   "outputs": [
    {
     "data": {
      "text/html": [
       "<style>#sk-container-id-4 {color: black;background-color: white;}#sk-container-id-4 pre{padding: 0;}#sk-container-id-4 div.sk-toggleable {background-color: white;}#sk-container-id-4 label.sk-toggleable__label {cursor: pointer;display: block;width: 100%;margin-bottom: 0;padding: 0.3em;box-sizing: border-box;text-align: center;}#sk-container-id-4 label.sk-toggleable__label-arrow:before {content: \"▸\";float: left;margin-right: 0.25em;color: #696969;}#sk-container-id-4 label.sk-toggleable__label-arrow:hover:before {color: black;}#sk-container-id-4 div.sk-estimator:hover label.sk-toggleable__label-arrow:before {color: black;}#sk-container-id-4 div.sk-toggleable__content {max-height: 0;max-width: 0;overflow: hidden;text-align: left;background-color: #f0f8ff;}#sk-container-id-4 div.sk-toggleable__content pre {margin: 0.2em;color: black;border-radius: 0.25em;background-color: #f0f8ff;}#sk-container-id-4 input.sk-toggleable__control:checked~div.sk-toggleable__content {max-height: 200px;max-width: 100%;overflow: auto;}#sk-container-id-4 input.sk-toggleable__control:checked~label.sk-toggleable__label-arrow:before {content: \"▾\";}#sk-container-id-4 div.sk-estimator input.sk-toggleable__control:checked~label.sk-toggleable__label {background-color: #d4ebff;}#sk-container-id-4 div.sk-label input.sk-toggleable__control:checked~label.sk-toggleable__label {background-color: #d4ebff;}#sk-container-id-4 input.sk-hidden--visually {border: 0;clip: rect(1px 1px 1px 1px);clip: rect(1px, 1px, 1px, 1px);height: 1px;margin: -1px;overflow: hidden;padding: 0;position: absolute;width: 1px;}#sk-container-id-4 div.sk-estimator {font-family: monospace;background-color: #f0f8ff;border: 1px dotted black;border-radius: 0.25em;box-sizing: border-box;margin-bottom: 0.5em;}#sk-container-id-4 div.sk-estimator:hover {background-color: #d4ebff;}#sk-container-id-4 div.sk-parallel-item::after {content: \"\";width: 100%;border-bottom: 1px solid gray;flex-grow: 1;}#sk-container-id-4 div.sk-label:hover label.sk-toggleable__label {background-color: #d4ebff;}#sk-container-id-4 div.sk-serial::before {content: \"\";position: absolute;border-left: 1px solid gray;box-sizing: border-box;top: 0;bottom: 0;left: 50%;z-index: 0;}#sk-container-id-4 div.sk-serial {display: flex;flex-direction: column;align-items: center;background-color: white;padding-right: 0.2em;padding-left: 0.2em;position: relative;}#sk-container-id-4 div.sk-item {position: relative;z-index: 1;}#sk-container-id-4 div.sk-parallel {display: flex;align-items: stretch;justify-content: center;background-color: white;position: relative;}#sk-container-id-4 div.sk-item::before, #sk-container-id-4 div.sk-parallel-item::before {content: \"\";position: absolute;border-left: 1px solid gray;box-sizing: border-box;top: 0;bottom: 0;left: 50%;z-index: -1;}#sk-container-id-4 div.sk-parallel-item {display: flex;flex-direction: column;z-index: 1;position: relative;background-color: white;}#sk-container-id-4 div.sk-parallel-item:first-child::after {align-self: flex-end;width: 50%;}#sk-container-id-4 div.sk-parallel-item:last-child::after {align-self: flex-start;width: 50%;}#sk-container-id-4 div.sk-parallel-item:only-child::after {width: 0;}#sk-container-id-4 div.sk-dashed-wrapped {border: 1px dashed gray;margin: 0 0.4em 0.5em 0.4em;box-sizing: border-box;padding-bottom: 0.4em;background-color: white;}#sk-container-id-4 div.sk-label label {font-family: monospace;font-weight: bold;display: inline-block;line-height: 1.2em;}#sk-container-id-4 div.sk-label-container {text-align: center;}#sk-container-id-4 div.sk-container {/* jupyter's `normalize.less` sets `[hidden] { display: none; }` but bootstrap.min.css set `[hidden] { display: none !important; }` so we also need the `!important` here to be able to override the default hidden behavior on the sphinx rendered scikit-learn.org. See: https://github.com/scikit-learn/scikit-learn/issues/21755 */display: inline-block !important;position: relative;}#sk-container-id-4 div.sk-text-repr-fallback {display: none;}</style><div id=\"sk-container-id-4\" class=\"sk-top-container\"><div class=\"sk-text-repr-fallback\"><pre>KNeighborsClassifier(algorithm=&#x27;ball_tree&#x27;, n_neighbors=15, p=1)</pre><b>In a Jupyter environment, please rerun this cell to show the HTML representation or trust the notebook. <br />On GitHub, the HTML representation is unable to render, please try loading this page with nbviewer.org.</b></div><div class=\"sk-container\" hidden><div class=\"sk-item\"><div class=\"sk-estimator sk-toggleable\"><input class=\"sk-toggleable__control sk-hidden--visually\" id=\"sk-estimator-id-8\" type=\"checkbox\" checked><label for=\"sk-estimator-id-8\" class=\"sk-toggleable__label sk-toggleable__label-arrow\">KNeighborsClassifier</label><div class=\"sk-toggleable__content\"><pre>KNeighborsClassifier(algorithm=&#x27;ball_tree&#x27;, n_neighbors=15, p=1)</pre></div></div></div></div></div>"
      ],
      "text/plain": [
       "KNeighborsClassifier(algorithm='ball_tree', n_neighbors=15, p=1)"
      ]
     },
     "execution_count": 57,
     "metadata": {},
     "output_type": "execute_result"
    }
   ],
   "source": [
    "gridknn.best_estimator_"
   ]
  },
  {
   "cell_type": "code",
   "execution_count": 58,
   "id": "52d8d09a",
   "metadata": {
    "execution": {
     "iopub.execute_input": "2023-06-23T04:46:07.330766Z",
     "iopub.status.busy": "2023-06-23T04:46:07.330386Z",
     "iopub.status.idle": "2023-06-23T04:46:07.336877Z",
     "shell.execute_reply": "2023-06-23T04:46:07.336274Z"
    },
    "papermill": {
     "duration": 0.028563,
     "end_time": "2023-06-23T04:46:07.338520",
     "exception": false,
     "start_time": "2023-06-23T04:46:07.309957",
     "status": "completed"
    },
    "tags": []
   },
   "outputs": [
    {
     "data": {
      "text/plain": [
       "{'algorithm': 'ball_tree',\n",
       " 'leaf_size': 30,\n",
       " 'n_neighbors': 15,\n",
       " 'p': 1,\n",
       " 'weights': 'uniform'}"
      ]
     },
     "execution_count": 58,
     "metadata": {},
     "output_type": "execute_result"
    }
   ],
   "source": [
    "gridknn.best_params_"
   ]
  },
  {
   "cell_type": "code",
   "execution_count": 59,
   "id": "62b6e25f",
   "metadata": {
    "execution": {
     "iopub.execute_input": "2023-06-23T04:46:07.380226Z",
     "iopub.status.busy": "2023-06-23T04:46:07.379317Z",
     "iopub.status.idle": "2023-06-23T04:46:07.383889Z",
     "shell.execute_reply": "2023-06-23T04:46:07.382899Z"
    },
    "papermill": {
     "duration": 0.027666,
     "end_time": "2023-06-23T04:46:07.386007",
     "exception": false,
     "start_time": "2023-06-23T04:46:07.358341",
     "status": "completed"
    },
    "tags": []
   },
   "outputs": [],
   "source": [
    "gridknnacc=gridknn.best_score_"
   ]
  },
  {
   "cell_type": "markdown",
   "id": "4106361a",
   "metadata": {
    "papermill": {
     "duration": 0.019055,
     "end_time": "2023-06-23T04:46:07.424401",
     "exception": false,
     "start_time": "2023-06-23T04:46:07.405346",
     "status": "completed"
    },
    "tags": []
   },
   "source": [
    "# Accuracy For Different Models/Algorithms"
   ]
  },
  {
   "cell_type": "code",
   "execution_count": 60,
   "id": "4ed3ce1b",
   "metadata": {
    "execution": {
     "iopub.execute_input": "2023-06-23T04:46:07.464572Z",
     "iopub.status.busy": "2023-06-23T04:46:07.464080Z",
     "iopub.status.idle": "2023-06-23T04:46:07.469017Z",
     "shell.execute_reply": "2023-06-23T04:46:07.467704Z"
    },
    "papermill": {
     "duration": 0.0283,
     "end_time": "2023-06-23T04:46:07.471949",
     "exception": false,
     "start_time": "2023-06-23T04:46:07.443649",
     "status": "completed"
    },
    "tags": []
   },
   "outputs": [],
   "source": [
    "names=['logisitic Regression','Desicion Tree','Random Forest',\"KNN\"]"
   ]
  },
  {
   "cell_type": "code",
   "execution_count": 61,
   "id": "3dcd28cf",
   "metadata": {
    "execution": {
     "iopub.execute_input": "2023-06-23T04:46:07.513680Z",
     "iopub.status.busy": "2023-06-23T04:46:07.513305Z",
     "iopub.status.idle": "2023-06-23T04:46:07.518300Z",
     "shell.execute_reply": "2023-06-23T04:46:07.516847Z"
    },
    "papermill": {
     "duration": 0.028322,
     "end_time": "2023-06-23T04:46:07.520210",
     "exception": false,
     "start_time": "2023-06-23T04:46:07.491888",
     "status": "completed"
    },
    "tags": []
   },
   "outputs": [],
   "source": [
    "accracies=[accuracylog*100,accuracyTree*100,rfcacc*100,knnaccuracy*100]"
   ]
  },
  {
   "cell_type": "code",
   "execution_count": 62,
   "id": "3efd5223",
   "metadata": {
    "execution": {
     "iopub.execute_input": "2023-06-23T04:46:07.562079Z",
     "iopub.status.busy": "2023-06-23T04:46:07.561740Z",
     "iopub.status.idle": "2023-06-23T04:46:07.771023Z",
     "shell.execute_reply": "2023-06-23T04:46:07.770056Z"
    },
    "papermill": {
     "duration": 0.232452,
     "end_time": "2023-06-23T04:46:07.772895",
     "exception": false,
     "start_time": "2023-06-23T04:46:07.540443",
     "status": "completed"
    },
    "tags": []
   },
   "outputs": [
    {
     "data": {
      "text/plain": [
       "Text(0.5, 1.0, 'Accuracies of different algos')"
      ]
     },
     "execution_count": 62,
     "metadata": {},
     "output_type": "execute_result"
    },
    {
     "data": {
      "image/png": "[encoded data removed]",
      "text/plain": [
       "<Figure size 1500x800 with 1 Axes>"
      ]
     },
     "metadata": {},
     "output_type": "display_data"
    }
   ],
   "source": [
    "plt.figure(figsize=(15,8))\n",
    "plt.barh(names,accracies)\n",
    "plt.ylabel('Algorithms/Model')\n",
    "plt.xlabel('Accuracy')\n",
    "plt.title('Accuracies of different algos')"
   ]
  },
  {
   "cell_type": "markdown",
   "id": "2b223321",
   "metadata": {
    "papermill": {
     "duration": 0.019518,
     "end_time": "2023-06-23T04:46:07.812322",
     "exception": false,
     "start_time": "2023-06-23T04:46:07.792804",
     "status": "completed"
    },
    "tags": []
   },
   "source": [
    "# After Tunning Accuracies"
   ]
  },
  {
   "cell_type": "code",
   "execution_count": 63,
   "id": "09324cda",
   "metadata": {
    "execution": {
     "iopub.execute_input": "2023-06-23T04:46:07.853564Z",
     "iopub.status.busy": "2023-06-23T04:46:07.853200Z",
     "iopub.status.idle": "2023-06-23T04:46:07.858183Z",
     "shell.execute_reply": "2023-06-23T04:46:07.856536Z"
    },
    "papermill": {
     "duration": 0.0281,
     "end_time": "2023-06-23T04:46:07.860249",
     "exception": false,
     "start_time": "2023-06-23T04:46:07.832149",
     "status": "completed"
    },
    "tags": []
   },
   "outputs": [],
   "source": [
    "gridacc=[gridtreeacc,gridrfcacc,gridknnacc]\n",
    "tunnedname=['Desicion Tree','Random Forest','KNN']"
   ]
  },
  {
   "cell_type": "code",
   "execution_count": 64,
   "id": "f114e017",
   "metadata": {
    "execution": {
     "iopub.execute_input": "2023-06-23T04:46:07.900725Z",
     "iopub.status.busy": "2023-06-23T04:46:07.900392Z",
     "iopub.status.idle": "2023-06-23T04:46:08.087056Z",
     "shell.execute_reply": "2023-06-23T04:46:08.086108Z"
    },
    "papermill": {
     "duration": 0.209146,
     "end_time": "2023-06-23T04:46:08.088889",
     "exception": false,
     "start_time": "2023-06-23T04:46:07.879743",
     "status": "completed"
    },
    "tags": []
   },
   "outputs": [
    {
     "data": {
      "text/plain": [
       "Text(0.5, 1.0, 'Accuaries after tunning parameters')"
      ]
     },
     "execution_count": 64,
     "metadata": {},
     "output_type": "execute_result"
    },
    {
     "data": {
      "image/png": "[encoded data removed]",
      "text/plain": [
       "<Figure size 1200x800 with 1 Axes>"
      ]
     },
     "metadata": {},
     "output_type": "display_data"
    }
   ],
   "source": [
    "plt.figure(figsize=(12,8))\n",
    "plt.barh(tunnedname,gridacc)\n",
    "plt.ylabel('Model/Algorithms')\n",
    "plt.xlabel('Accuaries')\n",
    "plt.title('Accuaries after tunning parameters')"
   ]
  }
 ],
 "metadata": {
  "kernelspec": {
   "display_name": "Python 3",
   "language": "python",
   "name": "python3"
  },
  "language_info": {
   "codemirror_mode": {
    "name": "ipython",
    "version": 3
   },
   "file_extension": ".py",
   "mimetype": "text/x-python",
   "name": "python",
   "nbconvert_exporter": "python",
   "pygments_lexer": "ipython3",
   "version": "3.10.10"
  },
  "papermill": {
   "default_parameters": {},
   "duration": 106.407372,
   "end_time": "2023-06-23T04:46:09.030794",
   "environment_variables": {},
   "exception": null,
   "input_path": "__notebook__.ipynb",
   "output_path": "__notebook__.ipynb",
   "parameters": {},
   "start_time": "2023-06-23T04:44:22.623422",
   "version": "2.4.0"
  }
 },
 "nbformat": 4,
 "nbformat_minor": 5
}
